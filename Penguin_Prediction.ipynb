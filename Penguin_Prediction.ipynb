{
  "cells": [
    {
      "cell_type": "code",
      "execution_count": null,
      "metadata": {
        "id": "PrxNmaPYhJfN"
      },
      "outputs": [],
      "source": [
        "import pandas as pd\n",
        "penguins = pd.read_csv('penguins_cleaned.csv')\n"
      ]
    },
    {
      "cell_type": "code",
      "execution_count": null,
      "metadata": {
        "id": "ya_vIhwXg10H"
      },
      "outputs": [],
      "source": [
        "df = penguins.copy()\n",
        "target = 'species'\n",
        "encode = ['sex','island']\n"
      ]
    },
    {
      "cell_type": "code",
      "execution_count": null,
      "metadata": {
        "id": "tG-NxRN4g5v2"
      },
      "outputs": [],
      "source": [
        "for col in encode:\n",
        "    dummy = pd.get_dummies(df[col], prefix=col)\n",
        "    df = pd.concat([df,dummy], axis=1)\n",
        "    del df[col]"
      ]
    },
    {
      "cell_type": "code",
      "execution_count": null,
      "metadata": {
        "id": "CbYk2OzEg7h_"
      },
      "outputs": [],
      "source": [
        "target_mapper = {'Adelie':0, 'Chinstrap':1, 'Gentoo':2}\n",
        "def target_encode(val):\n",
        "    return target_mapper[val]"
      ]
    },
    {
      "cell_type": "code",
      "execution_count": null,
      "metadata": {
        "id": "PW4nnCsXg96v"
      },
      "outputs": [],
      "source": [
        "df['species'] = df['species'].apply(target_encode)"
      ]
    },
    {
      "cell_type": "code",
      "execution_count": null,
      "metadata": {
        "id": "LXrYW3yUhAiv"
      },
      "outputs": [],
      "source": [
        "# Separating X and y\n",
        "X = df.drop('species', axis=1)\n",
        "Y = df['species']"
      ]
    },
    {
      "cell_type": "code",
      "execution_count": null,
      "metadata": {
        "id": "AImRlgcVhDXe"
      },
      "outputs": [],
      "source": [
        "# Build random forest model\n",
        "from sklearn.ensemble import RandomForestClassifier\n",
        "clf = RandomForestClassifier()\n",
        "clf.fit(X, Y)"
      ]
    },
    {
      "cell_type": "code",
      "execution_count": null,
      "metadata": {
        "id": "ubP8bjhAhE5I"
      },
      "outputs": [],
      "source": [
        "# Saving the model\n",
        "import pickle\n",
        "pickle.dump(clf, open('penguins_clf.pkl', 'wb'))"
      ]
    }
  ],
  "metadata": {
    "colab": {
      "provenance": []
    },
    "kernelspec": {
      "display_name": "Python 3.10.6 64-bit",
      "language": "python",
      "name": "python3"
    },
    "language_info": {
      "name": "python",
      "version": "3.10.6"
    },
    "vscode": {
      "interpreter": {
        "hash": "26de051ba29f2982a8de78e945f0abaf191376122a1563185a90213a26c5da77"
      }
    }
  },
  "nbformat": 4,
  "nbformat_minor": 0
}
