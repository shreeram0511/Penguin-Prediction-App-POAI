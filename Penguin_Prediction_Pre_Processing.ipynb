{
  "cells": [
    {
      "cell_type": "code",
      "execution_count": null,
      "id": "4a687b55",
      "metadata": {
        "execution": {
          "iopub.execute_input": "2022-05-12T17:18:47.825966Z",
          "iopub.status.busy": "2022-05-12T17:18:47.825514Z",
          "iopub.status.idle": "2022-05-12T17:18:48.826162Z",
          "shell.execute_reply": "2022-05-12T17:18:48.825284Z"
        },
        "papermill": {
          "duration": 1.05492,
          "end_time": "2022-05-12T17:18:48.828839",
          "exception": false,
          "start_time": "2022-05-12T17:18:47.773919",
          "status": "completed"
        },
        "tags": [],
        "id": "4a687b55"
      },
      "outputs": [],
      "source": [
        "import pandas as pd\n",
        "import numpy as np\n",
        "import matplotlib.pyplot as plt\n",
        "import seaborn as sns"
      ]
    },
    {
      "cell_type": "code",
      "execution_count": null,
      "id": "8ad2c2a1",
      "metadata": {
        "execution": {
          "iopub.execute_input": "2022-05-12T17:18:49.057395Z",
          "iopub.status.busy": "2022-05-12T17:18:49.057116Z",
          "iopub.status.idle": "2022-05-12T17:18:49.073193Z",
          "shell.execute_reply": "2022-05-12T17:18:49.072537Z"
        },
        "papermill": {
          "duration": 0.071279,
          "end_time": "2022-05-12T17:18:49.075012",
          "exception": false,
          "start_time": "2022-05-12T17:18:49.003733",
          "status": "completed"
        },
        "tags": [],
        "id": "8ad2c2a1"
      },
      "outputs": [],
      "source": [
        "data = pd.read_csv(\"https://raw.githubusercontent.com/shreeram0511/Penguin-Prediction-App-POAI/main/penguins_size.csv\")"
      ]
    },
    {
      "cell_type": "code",
      "execution_count": null,
      "id": "df582086",
      "metadata": {
        "execution": {
          "iopub.execute_input": "2022-05-12T17:18:49.180787Z",
          "iopub.status.busy": "2022-05-12T17:18:49.180136Z",
          "iopub.status.idle": "2022-05-12T17:18:49.201607Z",
          "shell.execute_reply": "2022-05-12T17:18:49.200957Z"
        },
        "papermill": {
          "duration": 0.076034,
          "end_time": "2022-05-12T17:18:49.203492",
          "exception": false,
          "start_time": "2022-05-12T17:18:49.127458",
          "status": "completed"
        },
        "tags": [],
        "id": "df582086",
        "outputId": "ceef4103-40ab-4639-e729-3d6de4a13c72",
        "colab": {
          "base_uri": "https://localhost:8080/",
          "height": 206
        }
      },
      "outputs": [
        {
          "output_type": "execute_result",
          "data": {
            "text/plain": [
              "  species     island  culmen_length_mm  culmen_depth_mm  flipper_length_mm  \\\n",
              "0  Adelie  Torgersen              39.1             18.7              181.0   \n",
              "1  Adelie  Torgersen              39.5             17.4              186.0   \n",
              "2  Adelie  Torgersen              40.3             18.0              195.0   \n",
              "3  Adelie  Torgersen               NaN              NaN                NaN   \n",
              "4  Adelie  Torgersen              36.7             19.3              193.0   \n",
              "\n",
              "   body_mass_g     sex  \n",
              "0       3750.0    MALE  \n",
              "1       3800.0  FEMALE  \n",
              "2       3250.0  FEMALE  \n",
              "3          NaN     NaN  \n",
              "4       3450.0  FEMALE  "
            ],
            "text/html": [
              "\n",
              "  <div id=\"df-c15121b5-ea46-4700-ad19-111dfe3a1587\">\n",
              "    <div class=\"colab-df-container\">\n",
              "      <div>\n",
              "<style scoped>\n",
              "    .dataframe tbody tr th:only-of-type {\n",
              "        vertical-align: middle;\n",
              "    }\n",
              "\n",
              "    .dataframe tbody tr th {\n",
              "        vertical-align: top;\n",
              "    }\n",
              "\n",
              "    .dataframe thead th {\n",
              "        text-align: right;\n",
              "    }\n",
              "</style>\n",
              "<table border=\"1\" class=\"dataframe\">\n",
              "  <thead>\n",
              "    <tr style=\"text-align: right;\">\n",
              "      <th></th>\n",
              "      <th>species</th>\n",
              "      <th>island</th>\n",
              "      <th>culmen_length_mm</th>\n",
              "      <th>culmen_depth_mm</th>\n",
              "      <th>flipper_length_mm</th>\n",
              "      <th>body_mass_g</th>\n",
              "      <th>sex</th>\n",
              "    </tr>\n",
              "  </thead>\n",
              "  <tbody>\n",
              "    <tr>\n",
              "      <th>0</th>\n",
              "      <td>Adelie</td>\n",
              "      <td>Torgersen</td>\n",
              "      <td>39.1</td>\n",
              "      <td>18.7</td>\n",
              "      <td>181.0</td>\n",
              "      <td>3750.0</td>\n",
              "      <td>MALE</td>\n",
              "    </tr>\n",
              "    <tr>\n",
              "      <th>1</th>\n",
              "      <td>Adelie</td>\n",
              "      <td>Torgersen</td>\n",
              "      <td>39.5</td>\n",
              "      <td>17.4</td>\n",
              "      <td>186.0</td>\n",
              "      <td>3800.0</td>\n",
              "      <td>FEMALE</td>\n",
              "    </tr>\n",
              "    <tr>\n",
              "      <th>2</th>\n",
              "      <td>Adelie</td>\n",
              "      <td>Torgersen</td>\n",
              "      <td>40.3</td>\n",
              "      <td>18.0</td>\n",
              "      <td>195.0</td>\n",
              "      <td>3250.0</td>\n",
              "      <td>FEMALE</td>\n",
              "    </tr>\n",
              "    <tr>\n",
              "      <th>3</th>\n",
              "      <td>Adelie</td>\n",
              "      <td>Torgersen</td>\n",
              "      <td>NaN</td>\n",
              "      <td>NaN</td>\n",
              "      <td>NaN</td>\n",
              "      <td>NaN</td>\n",
              "      <td>NaN</td>\n",
              "    </tr>\n",
              "    <tr>\n",
              "      <th>4</th>\n",
              "      <td>Adelie</td>\n",
              "      <td>Torgersen</td>\n",
              "      <td>36.7</td>\n",
              "      <td>19.3</td>\n",
              "      <td>193.0</td>\n",
              "      <td>3450.0</td>\n",
              "      <td>FEMALE</td>\n",
              "    </tr>\n",
              "  </tbody>\n",
              "</table>\n",
              "</div>\n",
              "      <button class=\"colab-df-convert\" onclick=\"convertToInteractive('df-c15121b5-ea46-4700-ad19-111dfe3a1587')\"\n",
              "              title=\"Convert this dataframe to an interactive table.\"\n",
              "              style=\"display:none;\">\n",
              "        \n",
              "  <svg xmlns=\"http://www.w3.org/2000/svg\" height=\"24px\"viewBox=\"0 0 24 24\"\n",
              "       width=\"24px\">\n",
              "    <path d=\"M0 0h24v24H0V0z\" fill=\"none\"/>\n",
              "    <path d=\"M18.56 5.44l.94 2.06.94-2.06 2.06-.94-2.06-.94-.94-2.06-.94 2.06-2.06.94zm-11 1L8.5 8.5l.94-2.06 2.06-.94-2.06-.94L8.5 2.5l-.94 2.06-2.06.94zm10 10l.94 2.06.94-2.06 2.06-.94-2.06-.94-.94-2.06-.94 2.06-2.06.94z\"/><path d=\"M17.41 7.96l-1.37-1.37c-.4-.4-.92-.59-1.43-.59-.52 0-1.04.2-1.43.59L10.3 9.45l-7.72 7.72c-.78.78-.78 2.05 0 2.83L4 21.41c.39.39.9.59 1.41.59.51 0 1.02-.2 1.41-.59l7.78-7.78 2.81-2.81c.8-.78.8-2.07 0-2.86zM5.41 20L4 18.59l7.72-7.72 1.47 1.35L5.41 20z\"/>\n",
              "  </svg>\n",
              "      </button>\n",
              "      \n",
              "  <style>\n",
              "    .colab-df-container {\n",
              "      display:flex;\n",
              "      flex-wrap:wrap;\n",
              "      gap: 12px;\n",
              "    }\n",
              "\n",
              "    .colab-df-convert {\n",
              "      background-color: #E8F0FE;\n",
              "      border: none;\n",
              "      border-radius: 50%;\n",
              "      cursor: pointer;\n",
              "      display: none;\n",
              "      fill: #1967D2;\n",
              "      height: 32px;\n",
              "      padding: 0 0 0 0;\n",
              "      width: 32px;\n",
              "    }\n",
              "\n",
              "    .colab-df-convert:hover {\n",
              "      background-color: #E2EBFA;\n",
              "      box-shadow: 0px 1px 2px rgba(60, 64, 67, 0.3), 0px 1px 3px 1px rgba(60, 64, 67, 0.15);\n",
              "      fill: #174EA6;\n",
              "    }\n",
              "\n",
              "    [theme=dark] .colab-df-convert {\n",
              "      background-color: #3B4455;\n",
              "      fill: #D2E3FC;\n",
              "    }\n",
              "\n",
              "    [theme=dark] .colab-df-convert:hover {\n",
              "      background-color: #434B5C;\n",
              "      box-shadow: 0px 1px 3px 1px rgba(0, 0, 0, 0.15);\n",
              "      filter: drop-shadow(0px 1px 2px rgba(0, 0, 0, 0.3));\n",
              "      fill: #FFFFFF;\n",
              "    }\n",
              "  </style>\n",
              "\n",
              "      <script>\n",
              "        const buttonEl =\n",
              "          document.querySelector('#df-c15121b5-ea46-4700-ad19-111dfe3a1587 button.colab-df-convert');\n",
              "        buttonEl.style.display =\n",
              "          google.colab.kernel.accessAllowed ? 'block' : 'none';\n",
              "\n",
              "        async function convertToInteractive(key) {\n",
              "          const element = document.querySelector('#df-c15121b5-ea46-4700-ad19-111dfe3a1587');\n",
              "          const dataTable =\n",
              "            await google.colab.kernel.invokeFunction('convertToInteractive',\n",
              "                                                     [key], {});\n",
              "          if (!dataTable) return;\n",
              "\n",
              "          const docLinkHtml = 'Like what you see? Visit the ' +\n",
              "            '<a target=\"_blank\" href=https://colab.research.google.com/notebooks/data_table.ipynb>data table notebook</a>'\n",
              "            + ' to learn more about interactive tables.';\n",
              "          element.innerHTML = '';\n",
              "          dataTable['output_type'] = 'display_data';\n",
              "          await google.colab.output.renderOutput(dataTable, element);\n",
              "          const docLink = document.createElement('div');\n",
              "          docLink.innerHTML = docLinkHtml;\n",
              "          element.appendChild(docLink);\n",
              "        }\n",
              "      </script>\n",
              "    </div>\n",
              "  </div>\n",
              "  "
            ]
          },
          "metadata": {},
          "execution_count": 4
        }
      ],
      "source": [
        "data.head()"
      ]
    },
    {
      "cell_type": "code",
      "execution_count": null,
      "id": "ee623ccc",
      "metadata": {
        "execution": {
          "iopub.execute_input": "2022-05-12T17:18:49.308216Z",
          "iopub.status.busy": "2022-05-12T17:18:49.307609Z",
          "iopub.status.idle": "2022-05-12T17:18:49.329156Z",
          "shell.execute_reply": "2022-05-12T17:18:49.327684Z"
        },
        "papermill": {
          "duration": 0.075106,
          "end_time": "2022-05-12T17:18:49.331247",
          "exception": false,
          "start_time": "2022-05-12T17:18:49.256141",
          "status": "completed"
        },
        "tags": [],
        "id": "ee623ccc",
        "outputId": "07474ed8-4d64-47e8-bf13-1fe758f3d437",
        "colab": {
          "base_uri": "https://localhost:8080/"
        }
      },
      "outputs": [
        {
          "output_type": "stream",
          "name": "stdout",
          "text": [
            "<class 'pandas.core.frame.DataFrame'>\n",
            "RangeIndex: 344 entries, 0 to 343\n",
            "Data columns (total 7 columns):\n",
            " #   Column             Non-Null Count  Dtype  \n",
            "---  ------             --------------  -----  \n",
            " 0   species            344 non-null    object \n",
            " 1   island             344 non-null    object \n",
            " 2   culmen_length_mm   342 non-null    float64\n",
            " 3   culmen_depth_mm    342 non-null    float64\n",
            " 4   flipper_length_mm  342 non-null    float64\n",
            " 5   body_mass_g        342 non-null    float64\n",
            " 6   sex                334 non-null    object \n",
            "dtypes: float64(4), object(3)\n",
            "memory usage: 18.9+ KB\n"
          ]
        }
      ],
      "source": [
        "data.info()"
      ]
    },
    {
      "cell_type": "code",
      "execution_count": null,
      "id": "4124c8b7",
      "metadata": {
        "execution": {
          "iopub.execute_input": "2022-05-12T17:18:49.440575Z",
          "iopub.status.busy": "2022-05-12T17:18:49.439774Z",
          "iopub.status.idle": "2022-05-12T17:18:49.446827Z",
          "shell.execute_reply": "2022-05-12T17:18:49.446060Z"
        },
        "papermill": {
          "duration": 0.061924,
          "end_time": "2022-05-12T17:18:49.448681",
          "exception": false,
          "start_time": "2022-05-12T17:18:49.386757",
          "status": "completed"
        },
        "tags": [],
        "id": "4124c8b7",
        "outputId": "e1f2683a-47e9-4dd2-f690-51292deae627",
        "colab": {
          "base_uri": "https://localhost:8080/"
        }
      },
      "outputs": [
        {
          "output_type": "execute_result",
          "data": {
            "text/plain": [
              "Adelie       152\n",
              "Gentoo       124\n",
              "Chinstrap     68\n",
              "Name: species, dtype: int64"
            ]
          },
          "metadata": {},
          "execution_count": 6
        }
      ],
      "source": [
        "data.species.value_counts()"
      ]
    },
    {
      "cell_type": "markdown",
      "id": "80998c05",
      "metadata": {
        "papermill": {
          "duration": 0.052538,
          "end_time": "2022-05-12T17:18:49.554314",
          "exception": false,
          "start_time": "2022-05-12T17:18:49.501776",
          "status": "completed"
        },
        "tags": [],
        "id": "80998c05"
      },
      "source": [
        "**Data Visualization**"
      ]
    },
    {
      "cell_type": "code",
      "execution_count": null,
      "id": "d438bf02",
      "metadata": {
        "execution": {
          "iopub.execute_input": "2022-05-12T17:18:49.662990Z",
          "iopub.status.busy": "2022-05-12T17:18:49.662186Z",
          "iopub.status.idle": "2022-05-12T17:18:49.673372Z",
          "shell.execute_reply": "2022-05-12T17:18:49.670340Z"
        },
        "papermill": {
          "duration": 0.070187,
          "end_time": "2022-05-12T17:18:49.676571",
          "exception": false,
          "start_time": "2022-05-12T17:18:49.606384",
          "status": "completed"
        },
        "tags": [],
        "id": "d438bf02"
      },
      "outputs": [],
      "source": [
        "def bar_chart(feature):\n",
        "    Adelie = data[data['species'] == 'Adelie'][feature].value_counts()\n",
        "    Gentoo = data[data['species'] == 'Gentoo'][feature].value_counts()\n",
        "    Chinstrap = data[data['species'] == 'Chinstrap'][feature].value_counts()\n",
        "    \n",
        "    df = pd.DataFrame([Adelie, Gentoo, Chinstrap])\n",
        "    df.index = ['Adelie', 'Gentoo', 'Chinstrap']\n",
        "    df.plot(kind = 'bar', stacked = True, figsize = (5,5))"
      ]
    },
    {
      "cell_type": "code",
      "execution_count": null,
      "id": "d0f136cb",
      "metadata": {
        "execution": {
          "iopub.execute_input": "2022-05-12T17:18:49.867640Z",
          "iopub.status.busy": "2022-05-12T17:18:49.867185Z",
          "iopub.status.idle": "2022-05-12T17:18:50.223787Z",
          "shell.execute_reply": "2022-05-12T17:18:50.223140Z"
        },
        "papermill": {
          "duration": 0.454818,
          "end_time": "2022-05-12T17:18:50.226240",
          "exception": false,
          "start_time": "2022-05-12T17:18:49.771422",
          "status": "completed"
        },
        "tags": [],
        "id": "d0f136cb",
        "outputId": "705b7eeb-d442-4a89-d91e-276a98248654",
        "colab": {
          "base_uri": "https://localhost:8080/",
          "height": 358
        }
      },
      "outputs": [
        {
          "output_type": "display_data",
          "data": {
            "text/plain": [
              "<Figure size 360x360 with 1 Axes>"
            ],
            "image/png": "[encoded data removed]"
          },
          "metadata": {
            "needs_background": "light"
          }
        }
      ],
      "source": [
        "bar_chart('island')"
      ]
    },
    {
      "cell_type": "markdown",
      "id": "5cbc1321",
      "metadata": {
        "papermill": {
          "duration": 0.055102,
          "end_time": "2022-05-12T17:18:50.351598",
          "exception": false,
          "start_time": "2022-05-12T17:18:50.296496",
          "status": "completed"
        },
        "tags": [],
        "id": "5cbc1321"
      },
      "source": [
        "**Observation:**\n",
        "- Gentoo is only from Biscoe island.\n",
        "- Chinstrap is only from Dream island.\n",
        "- Adelie is from all 3 islands(Dream, Torgersen, Biscoe)."
      ]
    },
    {
      "cell_type": "markdown",
      "id": "b3dfb0a6",
      "metadata": {
        "papermill": {
          "duration": 0.052674,
          "end_time": "2022-05-12T17:18:50.457203",
          "exception": false,
          "start_time": "2022-05-12T17:18:50.404529",
          "status": "completed"
        },
        "tags": [],
        "id": "b3dfb0a6"
      },
      "source": [
        "**Data Cleansing**"
      ]
    },
    {
      "cell_type": "code",
      "execution_count": null,
      "id": "f949ee44",
      "metadata": {
        "execution": {
          "iopub.execute_input": "2022-05-12T17:18:50.565707Z",
          "iopub.status.busy": "2022-05-12T17:18:50.565422Z",
          "iopub.status.idle": "2022-05-12T17:18:50.573414Z",
          "shell.execute_reply": "2022-05-12T17:18:50.572759Z"
        },
        "papermill": {
          "duration": 0.064257,
          "end_time": "2022-05-12T17:18:50.575453",
          "exception": false,
          "start_time": "2022-05-12T17:18:50.511196",
          "status": "completed"
        },
        "tags": [],
        "id": "f949ee44",
        "outputId": "c3ed2f02-c55d-4d55-a400-e491f26a6b71",
        "colab": {
          "base_uri": "https://localhost:8080/"
        }
      },
      "outputs": [
        {
          "output_type": "execute_result",
          "data": {
            "text/plain": [
              "species               0\n",
              "island                0\n",
              "culmen_length_mm      2\n",
              "culmen_depth_mm       2\n",
              "flipper_length_mm     2\n",
              "body_mass_g           2\n",
              "sex                  10\n",
              "dtype: int64"
            ]
          },
          "metadata": {},
          "execution_count": 9
        }
      ],
      "source": [
        "# No of null values in each feature\n",
        "data.isnull().sum()"
      ]
    },
    {
      "cell_type": "markdown",
      "id": "e06aaa2b",
      "metadata": {
        "papermill": {
          "duration": 0.05264,
          "end_time": "2022-05-12T17:18:50.683230",
          "exception": false,
          "start_time": "2022-05-12T17:18:50.630590",
          "status": "completed"
        },
        "tags": [],
        "id": "e06aaa2b"
      },
      "source": []
    },
    {
      "cell_type": "markdown",
      "id": "ad6947a0",
      "metadata": {
        "papermill": {
          "duration": 0.05458,
          "end_time": "2022-05-12T17:18:50.790656",
          "exception": false,
          "start_time": "2022-05-12T17:18:50.736076",
          "status": "completed"
        },
        "tags": [],
        "id": "ad6947a0"
      },
      "source": [
        "**Culmen Length**"
      ]
    },
    {
      "cell_type": "markdown",
      "id": "0d54d3af",
      "metadata": {
        "papermill": {
          "duration": 0.052552,
          "end_time": "2022-05-12T17:18:50.896019",
          "exception": false,
          "start_time": "2022-05-12T17:18:50.843467",
          "status": "completed"
        },
        "tags": [],
        "id": "0d54d3af"
      },
      "source": [
        "Two data are missing. Let's fill them with median values grouped by island."
      ]
    },
    {
      "cell_type": "code",
      "execution_count": null,
      "id": "765f590b",
      "metadata": {
        "execution": {
          "iopub.execute_input": "2022-05-12T17:18:51.003063Z",
          "iopub.status.busy": "2022-05-12T17:18:51.002343Z",
          "iopub.status.idle": "2022-05-12T17:18:51.011366Z",
          "shell.execute_reply": "2022-05-12T17:18:51.010678Z"
        },
        "papermill": {
          "duration": 0.064427,
          "end_time": "2022-05-12T17:18:51.013157",
          "exception": false,
          "start_time": "2022-05-12T17:18:50.948730",
          "status": "completed"
        },
        "tags": [],
        "id": "765f590b"
      },
      "outputs": [],
      "source": [
        "data['culmen_length_mm'].fillna(data.groupby('island')['culmen_length_mm'].transform('median'), inplace = True)"
      ]
    },
    {
      "cell_type": "markdown",
      "id": "92390650",
      "metadata": {
        "papermill": {
          "duration": 0.052865,
          "end_time": "2022-05-12T17:18:51.120462",
          "exception": false,
          "start_time": "2022-05-12T17:18:51.067597",
          "status": "completed"
        },
        "tags": [],
        "id": "92390650"
      },
      "source": [
        "**Culmen Depth**"
      ]
    },
    {
      "cell_type": "markdown",
      "id": "f45bea7c",
      "metadata": {
        "papermill": {
          "duration": 0.052409,
          "end_time": "2022-05-12T17:18:51.227763",
          "exception": false,
          "start_time": "2022-05-12T17:18:51.175354",
          "status": "completed"
        },
        "tags": [],
        "id": "f45bea7c"
      },
      "source": [
        "Again two data are missing. Let's fill them with median values grouped by island."
      ]
    },
    {
      "cell_type": "code",
      "execution_count": null,
      "id": "0e97158b",
      "metadata": {
        "execution": {
          "iopub.execute_input": "2022-05-12T17:18:51.343317Z",
          "iopub.status.busy": "2022-05-12T17:18:51.343063Z",
          "iopub.status.idle": "2022-05-12T17:18:51.348957Z",
          "shell.execute_reply": "2022-05-12T17:18:51.348272Z"
        },
        "papermill": {
          "duration": 0.063766,
          "end_time": "2022-05-12T17:18:51.350754",
          "exception": false,
          "start_time": "2022-05-12T17:18:51.286988",
          "status": "completed"
        },
        "tags": [],
        "id": "0e97158b"
      },
      "outputs": [],
      "source": [
        "data['culmen_depth_mm'].fillna(data.groupby('island')['culmen_depth_mm'].transform('median'), inplace = True)"
      ]
    },
    {
      "cell_type": "markdown",
      "id": "ee248ec3",
      "metadata": {
        "papermill": {
          "duration": 0.05144,
          "end_time": "2022-05-12T17:18:51.456138",
          "exception": false,
          "start_time": "2022-05-12T17:18:51.404698",
          "status": "completed"
        },
        "tags": [],
        "id": "ee248ec3"
      },
      "source": [
        "**Flipper Length**"
      ]
    },
    {
      "cell_type": "code",
      "execution_count": null,
      "id": "08528e6b",
      "metadata": {
        "execution": {
          "iopub.execute_input": "2022-05-12T17:18:51.562233Z",
          "iopub.status.busy": "2022-05-12T17:18:51.561979Z",
          "iopub.status.idle": "2022-05-12T17:18:51.567935Z",
          "shell.execute_reply": "2022-05-12T17:18:51.567218Z"
        },
        "papermill": {
          "duration": 0.061377,
          "end_time": "2022-05-12T17:18:51.569691",
          "exception": false,
          "start_time": "2022-05-12T17:18:51.508314",
          "status": "completed"
        },
        "tags": [],
        "id": "08528e6b"
      },
      "outputs": [],
      "source": [
        "data['flipper_length_mm'].fillna(data.groupby('island')['flipper_length_mm'].transform('median'), inplace = True)"
      ]
    },
    {
      "cell_type": "markdown",
      "id": "00a8f1b0",
      "metadata": {
        "papermill": {
          "duration": 0.052829,
          "end_time": "2022-05-12T17:18:51.676438",
          "exception": false,
          "start_time": "2022-05-12T17:18:51.623609",
          "status": "completed"
        },
        "tags": [],
        "id": "00a8f1b0"
      },
      "source": [
        "**Body Mass**"
      ]
    },
    {
      "cell_type": "code",
      "execution_count": null,
      "id": "4ebd24eb",
      "metadata": {
        "execution": {
          "iopub.execute_input": "2022-05-12T17:18:51.782373Z",
          "iopub.status.busy": "2022-05-12T17:18:51.782123Z",
          "iopub.status.idle": "2022-05-12T17:18:51.787950Z",
          "shell.execute_reply": "2022-05-12T17:18:51.787156Z"
        },
        "papermill": {
          "duration": 0.060986,
          "end_time": "2022-05-12T17:18:51.789646",
          "exception": false,
          "start_time": "2022-05-12T17:18:51.728660",
          "status": "completed"
        },
        "tags": [],
        "id": "4ebd24eb"
      },
      "outputs": [],
      "source": [
        "data['body_mass_g'].fillna(data.groupby('island')['body_mass_g'].transform('median'), inplace = True)"
      ]
    },
    {
      "cell_type": "markdown",
      "id": "752d110d",
      "metadata": {
        "papermill": {
          "duration": 0.052583,
          "end_time": "2022-05-12T17:18:51.896280",
          "exception": false,
          "start_time": "2022-05-12T17:18:51.843697",
          "status": "completed"
        },
        "tags": [],
        "id": "752d110d"
      },
      "source": [
        "**Gender**"
      ]
    },
    {
      "cell_type": "code",
      "execution_count": null,
      "id": "d8748797",
      "metadata": {
        "execution": {
          "iopub.execute_input": "2022-05-12T17:18:52.001816Z",
          "iopub.status.busy": "2022-05-12T17:18:52.001539Z",
          "iopub.status.idle": "2022-05-12T17:18:52.210205Z",
          "shell.execute_reply": "2022-05-12T17:18:52.209467Z"
        },
        "papermill": {
          "duration": 0.26402,
          "end_time": "2022-05-12T17:18:52.212068",
          "exception": false,
          "start_time": "2022-05-12T17:18:51.948048",
          "status": "completed"
        },
        "tags": [],
        "id": "d8748797",
        "outputId": "c4207eb2-e6f2-4e74-f62f-cf7b787a3cef",
        "colab": {
          "base_uri": "https://localhost:8080/",
          "height": 358
        }
      },
      "outputs": [
        {
          "output_type": "display_data",
          "data": {
            "text/plain": [
              "<Figure size 360x360 with 1 Axes>"
            ],
            "image/png": "[encoded data removed]"
          },
          "metadata": {
            "needs_background": "light"
          }
        }
      ],
      "source": [
        "bar_chart('sex')"
      ]
    },
    {
      "cell_type": "code",
      "execution_count": null,
      "id": "8b49978c",
      "metadata": {
        "execution": {
          "iopub.execute_input": "2022-05-12T17:18:52.319358Z",
          "iopub.status.busy": "2022-05-12T17:18:52.319096Z",
          "iopub.status.idle": "2022-05-12T17:18:52.325733Z",
          "shell.execute_reply": "2022-05-12T17:18:52.325042Z"
        },
        "papermill": {
          "duration": 0.062511,
          "end_time": "2022-05-12T17:18:52.327365",
          "exception": false,
          "start_time": "2022-05-12T17:18:52.264854",
          "status": "completed"
        },
        "tags": [],
        "id": "8b49978c"
      },
      "outputs": [],
      "source": [
        "# Let's replace the above dot with Nan value\n",
        "data['sex'] = data['sex'].replace('.', None)"
      ]
    },
    {
      "cell_type": "markdown",
      "id": "cf561761",
      "metadata": {
        "papermill": {
          "duration": 0.052603,
          "end_time": "2022-05-12T17:18:52.432562",
          "exception": false,
          "start_time": "2022-05-12T17:18:52.379959",
          "status": "completed"
        },
        "tags": [],
        "id": "cf561761"
      },
      "source": [
        "**Observations:**\n",
        "- There is a dot instead of Male or Female.\n",
        "- (73x2) + (34x2) + (61+58+1) = 334, Actualy there are 11 data missing in '**sex**' column considering the above 'dot'.\n",
        "\n",
        "**Assumptions:**\n",
        "- 73x2 = 146 penguin gender of 'Adelie' species are specified. So, 152-146 = 6 data in 'sex' column are missing. Let's assume 3 of them are male and the others are female.\n",
        "- Similarly, let's assume penguins of the Gentoo species has 62 male and female.\n",
        "- ***I don't think gender has any role to identify a species.*** So I will just drop it"
      ]
    },
    {
      "cell_type": "code",
      "execution_count": null,
      "id": "8e321a22",
      "metadata": {
        "execution": {
          "iopub.execute_input": "2022-05-12T17:18:52.540096Z",
          "iopub.status.busy": "2022-05-12T17:18:52.539828Z",
          "iopub.status.idle": "2022-05-12T17:18:52.544739Z",
          "shell.execute_reply": "2022-05-12T17:18:52.543895Z"
        },
        "papermill": {
          "duration": 0.062002,
          "end_time": "2022-05-12T17:18:52.547307",
          "exception": false,
          "start_time": "2022-05-12T17:18:52.485305",
          "status": "completed"
        },
        "tags": [],
        "id": "8e321a22"
      },
      "outputs": [],
      "source": [
        "data = data.drop('sex', axis = 1)"
      ]
    },
    {
      "cell_type": "markdown",
      "id": "87983f5c",
      "metadata": {
        "papermill": {
          "duration": 0.052163,
          "end_time": "2022-05-12T17:18:52.652526",
          "exception": false,
          "start_time": "2022-05-12T17:18:52.600363",
          "status": "completed"
        },
        "tags": [],
        "id": "87983f5c"
      },
      "source": [
        "**Feature Engineering**"
      ]
    },
    {
      "cell_type": "code",
      "execution_count": null,
      "id": "42ddddc5",
      "metadata": {
        "execution": {
          "iopub.execute_input": "2022-05-12T17:18:52.770340Z",
          "iopub.status.busy": "2022-05-12T17:18:52.770060Z",
          "iopub.status.idle": "2022-05-12T17:18:52.774086Z",
          "shell.execute_reply": "2022-05-12T17:18:52.773189Z"
        },
        "papermill": {
          "duration": 0.065718,
          "end_time": "2022-05-12T17:18:52.776389",
          "exception": false,
          "start_time": "2022-05-12T17:18:52.710671",
          "status": "completed"
        },
        "tags": [],
        "id": "42ddddc5"
      },
      "outputs": [],
      "source": [
        "dataset = [data]"
      ]
    },
    {
      "cell_type": "markdown",
      "id": "77c090da",
      "metadata": {
        "papermill": {
          "duration": 0.058166,
          "end_time": "2022-05-12T17:18:52.893209",
          "exception": false,
          "start_time": "2022-05-12T17:18:52.835043",
          "status": "completed"
        },
        "tags": [],
        "id": "77c090da"
      },
      "source": [
        "**Island**"
      ]
    },
    {
      "cell_type": "code",
      "execution_count": null,
      "id": "e9806bda",
      "metadata": {
        "execution": {
          "iopub.execute_input": "2022-05-12T17:18:53.016699Z",
          "iopub.status.busy": "2022-05-12T17:18:53.016401Z",
          "iopub.status.idle": "2022-05-12T17:18:53.024200Z",
          "shell.execute_reply": "2022-05-12T17:18:53.023479Z"
        },
        "papermill": {
          "duration": 0.072349,
          "end_time": "2022-05-12T17:18:53.026259",
          "exception": false,
          "start_time": "2022-05-12T17:18:52.953910",
          "status": "completed"
        },
        "tags": [],
        "id": "e9806bda",
        "outputId": "b550088e-335b-49b5-927e-35115be1ba94",
        "colab": {
          "base_uri": "https://localhost:8080/"
        }
      },
      "outputs": [
        {
          "output_type": "execute_result",
          "data": {
            "text/plain": [
              "Biscoe       168\n",
              "Dream        124\n",
              "Torgersen     52\n",
              "Name: island, dtype: int64"
            ]
          },
          "metadata": {},
          "execution_count": 18
        }
      ],
      "source": [
        "data.island.value_counts()"
      ]
    },
    {
      "cell_type": "code",
      "execution_count": null,
      "id": "794f5b0b",
      "metadata": {
        "execution": {
          "iopub.execute_input": "2022-05-12T17:18:53.147232Z",
          "iopub.status.busy": "2022-05-12T17:18:53.146508Z",
          "iopub.status.idle": "2022-05-12T17:18:53.154105Z",
          "shell.execute_reply": "2022-05-12T17:18:53.153403Z"
        },
        "papermill": {
          "duration": 0.069904,
          "end_time": "2022-05-12T17:18:53.155920",
          "exception": false,
          "start_time": "2022-05-12T17:18:53.086016",
          "status": "completed"
        },
        "tags": [],
        "id": "794f5b0b"
      },
      "outputs": [],
      "source": [
        "# Biscoe: 0, Dream: 1, Torgersen: 2\n",
        "island_mapping = {\"Biscoe\": 0, \"Dream\": 1, \"Torgersen\": 2}\n",
        "\n",
        "for _data in dataset:\n",
        "    _data['island'] = _data['island'].map(island_mapping)"
      ]
    },
    {
      "cell_type": "code",
      "execution_count": null,
      "id": "a9a0ea25",
      "metadata": {
        "execution": {
          "iopub.execute_input": "2022-05-12T17:18:53.268523Z",
          "iopub.status.busy": "2022-05-12T17:18:53.267903Z",
          "iopub.status.idle": "2022-05-12T17:18:53.280033Z",
          "shell.execute_reply": "2022-05-12T17:18:53.279361Z"
        },
        "papermill": {
          "duration": 0.068646,
          "end_time": "2022-05-12T17:18:53.282124",
          "exception": false,
          "start_time": "2022-05-12T17:18:53.213478",
          "status": "completed"
        },
        "tags": [],
        "id": "a9a0ea25",
        "outputId": "8deaa0db-4163-44f0-cf0a-e02bb43cf1cc",
        "colab": {
          "base_uri": "https://localhost:8080/",
          "height": 206
        }
      },
      "outputs": [
        {
          "output_type": "execute_result",
          "data": {
            "text/plain": [
              "  species  island  culmen_length_mm  culmen_depth_mm  flipper_length_mm  \\\n",
              "0  Adelie       2              39.1             18.7              181.0   \n",
              "1  Adelie       2              39.5             17.4              186.0   \n",
              "2  Adelie       2              40.3             18.0              195.0   \n",
              "3  Adelie       2              38.9             18.4              191.0   \n",
              "4  Adelie       2              36.7             19.3              193.0   \n",
              "\n",
              "   body_mass_g  \n",
              "0       3750.0  \n",
              "1       3800.0  \n",
              "2       3250.0  \n",
              "3       3700.0  \n",
              "4       3450.0  "
            ],
            "text/html": [
              "\n",
              "  <div id=\"df-c5ec8565-270e-48be-a851-85da3d394f7d\">\n",
              "    <div class=\"colab-df-container\">\n",
              "      <div>\n",
              "<style scoped>\n",
              "    .dataframe tbody tr th:only-of-type {\n",
              "        vertical-align: middle;\n",
              "    }\n",
              "\n",
              "    .dataframe tbody tr th {\n",
              "        vertical-align: top;\n",
              "    }\n",
              "\n",
              "    .dataframe thead th {\n",
              "        text-align: right;\n",
              "    }\n",
              "</style>\n",
              "<table border=\"1\" class=\"dataframe\">\n",
              "  <thead>\n",
              "    <tr style=\"text-align: right;\">\n",
              "      <th></th>\n",
              "      <th>species</th>\n",
              "      <th>island</th>\n",
              "      <th>culmen_length_mm</th>\n",
              "      <th>culmen_depth_mm</th>\n",
              "      <th>flipper_length_mm</th>\n",
              "      <th>body_mass_g</th>\n",
              "    </tr>\n",
              "  </thead>\n",
              "  <tbody>\n",
              "    <tr>\n",
              "      <th>0</th>\n",
              "      <td>Adelie</td>\n",
              "      <td>2</td>\n",
              "      <td>39.1</td>\n",
              "      <td>18.7</td>\n",
              "      <td>181.0</td>\n",
              "      <td>3750.0</td>\n",
              "    </tr>\n",
              "    <tr>\n",
              "      <th>1</th>\n",
              "      <td>Adelie</td>\n",
              "      <td>2</td>\n",
              "      <td>39.5</td>\n",
              "      <td>17.4</td>\n",
              "      <td>186.0</td>\n",
              "      <td>3800.0</td>\n",
              "    </tr>\n",
              "    <tr>\n",
              "      <th>2</th>\n",
              "      <td>Adelie</td>\n",
              "      <td>2</td>\n",
              "      <td>40.3</td>\n",
              "      <td>18.0</td>\n",
              "      <td>195.0</td>\n",
              "      <td>3250.0</td>\n",
              "    </tr>\n",
              "    <tr>\n",
              "      <th>3</th>\n",
              "      <td>Adelie</td>\n",
              "      <td>2</td>\n",
              "      <td>38.9</td>\n",
              "      <td>18.4</td>\n",
              "      <td>191.0</td>\n",
              "      <td>3700.0</td>\n",
              "    </tr>\n",
              "    <tr>\n",
              "      <th>4</th>\n",
              "      <td>Adelie</td>\n",
              "      <td>2</td>\n",
              "      <td>36.7</td>\n",
              "      <td>19.3</td>\n",
              "      <td>193.0</td>\n",
              "      <td>3450.0</td>\n",
              "    </tr>\n",
              "  </tbody>\n",
              "</table>\n",
              "</div>\n",
              "      <button class=\"colab-df-convert\" onclick=\"convertToInteractive('df-c5ec8565-270e-48be-a851-85da3d394f7d')\"\n",
              "              title=\"Convert this dataframe to an interactive table.\"\n",
              "              style=\"display:none;\">\n",
              "        \n",
              "  <svg xmlns=\"http://www.w3.org/2000/svg\" height=\"24px\"viewBox=\"0 0 24 24\"\n",
              "       width=\"24px\">\n",
              "    <path d=\"M0 0h24v24H0V0z\" fill=\"none\"/>\n",
              "    <path d=\"M18.56 5.44l.94 2.06.94-2.06 2.06-.94-2.06-.94-.94-2.06-.94 2.06-2.06.94zm-11 1L8.5 8.5l.94-2.06 2.06-.94-2.06-.94L8.5 2.5l-.94 2.06-2.06.94zm10 10l.94 2.06.94-2.06 2.06-.94-2.06-.94-.94-2.06-.94 2.06-2.06.94z\"/><path d=\"M17.41 7.96l-1.37-1.37c-.4-.4-.92-.59-1.43-.59-.52 0-1.04.2-1.43.59L10.3 9.45l-7.72 7.72c-.78.78-.78 2.05 0 2.83L4 21.41c.39.39.9.59 1.41.59.51 0 1.02-.2 1.41-.59l7.78-7.78 2.81-2.81c.8-.78.8-2.07 0-2.86zM5.41 20L4 18.59l7.72-7.72 1.47 1.35L5.41 20z\"/>\n",
              "  </svg>\n",
              "      </button>\n",
              "      \n",
              "  <style>\n",
              "    .colab-df-container {\n",
              "      display:flex;\n",
              "      flex-wrap:wrap;\n",
              "      gap: 12px;\n",
              "    }\n",
              "\n",
              "    .colab-df-convert {\n",
              "      background-color: #E8F0FE;\n",
              "      border: none;\n",
              "      border-radius: 50%;\n",
              "      cursor: pointer;\n",
              "      display: none;\n",
              "      fill: #1967D2;\n",
              "      height: 32px;\n",
              "      padding: 0 0 0 0;\n",
              "      width: 32px;\n",
              "    }\n",
              "\n",
              "    .colab-df-convert:hover {\n",
              "      background-color: #E2EBFA;\n",
              "      box-shadow: 0px 1px 2px rgba(60, 64, 67, 0.3), 0px 1px 3px 1px rgba(60, 64, 67, 0.15);\n",
              "      fill: #174EA6;\n",
              "    }\n",
              "\n",
              "    [theme=dark] .colab-df-convert {\n",
              "      background-color: #3B4455;\n",
              "      fill: #D2E3FC;\n",
              "    }\n",
              "\n",
              "    [theme=dark] .colab-df-convert:hover {\n",
              "      background-color: #434B5C;\n",
              "      box-shadow: 0px 1px 3px 1px rgba(0, 0, 0, 0.15);\n",
              "      filter: drop-shadow(0px 1px 2px rgba(0, 0, 0, 0.3));\n",
              "      fill: #FFFFFF;\n",
              "    }\n",
              "  </style>\n",
              "\n",
              "      <script>\n",
              "        const buttonEl =\n",
              "          document.querySelector('#df-c5ec8565-270e-48be-a851-85da3d394f7d button.colab-df-convert');\n",
              "        buttonEl.style.display =\n",
              "          google.colab.kernel.accessAllowed ? 'block' : 'none';\n",
              "\n",
              "        async function convertToInteractive(key) {\n",
              "          const element = document.querySelector('#df-c5ec8565-270e-48be-a851-85da3d394f7d');\n",
              "          const dataTable =\n",
              "            await google.colab.kernel.invokeFunction('convertToInteractive',\n",
              "                                                     [key], {});\n",
              "          if (!dataTable) return;\n",
              "\n",
              "          const docLinkHtml = 'Like what you see? Visit the ' +\n",
              "            '<a target=\"_blank\" href=https://colab.research.google.com/notebooks/data_table.ipynb>data table notebook</a>'\n",
              "            + ' to learn more about interactive tables.';\n",
              "          element.innerHTML = '';\n",
              "          dataTable['output_type'] = 'display_data';\n",
              "          await google.colab.output.renderOutput(dataTable, element);\n",
              "          const docLink = document.createElement('div');\n",
              "          docLink.innerHTML = docLinkHtml;\n",
              "          element.appendChild(docLink);\n",
              "        }\n",
              "      </script>\n",
              "    </div>\n",
              "  </div>\n",
              "  "
            ]
          },
          "metadata": {},
          "execution_count": 20
        }
      ],
      "source": [
        "data.head()"
      ]
    },
    {
      "cell_type": "markdown",
      "id": "1d2b4fc1",
      "metadata": {
        "papermill": {
          "duration": 0.052943,
          "end_time": "2022-05-12T17:18:53.390450",
          "exception": false,
          "start_time": "2022-05-12T17:18:53.337507",
          "status": "completed"
        },
        "tags": [],
        "id": "1d2b4fc1"
      },
      "source": [
        "In the following features data are scattered in different values(sizes). Let's catagorize them as:\n",
        "- ***small*** = 0\n",
        "- ***medium*** = 1\n",
        "- ***large*** = 2"
      ]
    },
    {
      "cell_type": "markdown",
      "id": "a22713a2",
      "metadata": {
        "papermill": {
          "duration": 0.053223,
          "end_time": "2022-05-12T17:18:53.497099",
          "exception": false,
          "start_time": "2022-05-12T17:18:53.443876",
          "status": "completed"
        },
        "tags": [],
        "id": "a22713a2"
      },
      "source": [
        "**Culmen Length**"
      ]
    },
    {
      "cell_type": "code",
      "execution_count": null,
      "id": "96bd6a0a",
      "metadata": {
        "execution": {
          "iopub.execute_input": "2022-05-12T17:18:53.605368Z",
          "iopub.status.busy": "2022-05-12T17:18:53.604692Z",
          "iopub.status.idle": "2022-05-12T17:18:53.615073Z",
          "shell.execute_reply": "2022-05-12T17:18:53.614327Z"
        },
        "papermill": {
          "duration": 0.066374,
          "end_time": "2022-05-12T17:18:53.616826",
          "exception": false,
          "start_time": "2022-05-12T17:18:53.550452",
          "status": "completed"
        },
        "tags": [],
        "id": "96bd6a0a",
        "outputId": "d7b72265-7f53-46a9-838d-d78d7cabc10e",
        "colab": {
          "base_uri": "https://localhost:8080/"
        }
      },
      "outputs": [
        {
          "output_type": "execute_result",
          "data": {
            "text/plain": [
              "count    344.000000\n",
              "mean      43.912791\n",
              "std        5.451328\n",
              "min       32.100000\n",
              "25%       39.200000\n",
              "50%       44.450000\n",
              "75%       48.500000\n",
              "max       59.600000\n",
              "Name: culmen_length_mm, dtype: float64"
            ]
          },
          "metadata": {},
          "execution_count": 21
        }
      ],
      "source": [
        "data['culmen_length_mm'].describe()"
      ]
    },
    {
      "cell_type": "code",
      "execution_count": null,
      "id": "5b928212",
      "metadata": {
        "execution": {
          "iopub.execute_input": "2022-05-12T17:18:53.730846Z",
          "iopub.status.busy": "2022-05-12T17:18:53.730551Z",
          "iopub.status.idle": "2022-05-12T17:18:53.748877Z",
          "shell.execute_reply": "2022-05-12T17:18:53.747312Z"
        },
        "papermill": {
          "duration": 0.078398,
          "end_time": "2022-05-12T17:18:53.751387",
          "exception": false,
          "start_time": "2022-05-12T17:18:53.672989",
          "status": "completed"
        },
        "tags": [],
        "id": "5b928212",
        "outputId": "374423d6-8481-4f9f-81c7-de9c02f8f0ac",
        "colab": {
          "base_uri": "https://localhost:8080/"
        }
      },
      "outputs": [
        {
          "output_type": "stream",
          "name": "stdout",
          "text": [
            "0      (32.072, 41.267]\n",
            "1      (32.072, 41.267]\n",
            "2      (32.072, 41.267]\n",
            "3      (32.072, 41.267]\n",
            "4      (32.072, 41.267]\n",
            "             ...       \n",
            "339    (41.267, 50.433]\n",
            "340    (41.267, 50.433]\n",
            "341    (41.267, 50.433]\n",
            "342    (41.267, 50.433]\n",
            "343    (41.267, 50.433]\n",
            "Name: Categorical_culmen_length, Length: 344, dtype: category\n",
            "Categories (3, interval[float64, right]): [(32.072, 41.267] < (41.267, 50.433] < (50.433, 59.6]]\n"
          ]
        }
      ],
      "source": [
        "data['Categorical_culmen_length'] = pd.cut(data['culmen_length_mm'], 3)\n",
        "print(data['Categorical_culmen_length'])"
      ]
    },
    {
      "cell_type": "code",
      "execution_count": null,
      "id": "191c812f",
      "metadata": {
        "execution": {
          "iopub.execute_input": "2022-05-12T17:18:53.868690Z",
          "iopub.status.busy": "2022-05-12T17:18:53.868424Z",
          "iopub.status.idle": "2022-05-12T17:18:53.875967Z",
          "shell.execute_reply": "2022-05-12T17:18:53.875261Z"
        },
        "papermill": {
          "duration": 0.06479,
          "end_time": "2022-05-12T17:18:53.877655",
          "exception": false,
          "start_time": "2022-05-12T17:18:53.812865",
          "status": "completed"
        },
        "tags": [],
        "id": "191c812f"
      },
      "outputs": [],
      "source": [
        "for _data in dataset:\n",
        "    _data.loc[_data['culmen_length_mm']<=41.267, 'culmen_length_mm'] = 0\n",
        "    _data.loc[(_data['culmen_length_mm'] > 41.267) & (data['culmen_length_mm'] <= 50.433), 'culmen_length_mm'] = 1\n",
        "    _data.loc[_data['culmen_length_mm']>50.433, 'culmen_length_mm'] = 2"
      ]
    },
    {
      "cell_type": "code",
      "execution_count": null,
      "id": "c25215c7",
      "metadata": {
        "execution": {
          "iopub.execute_input": "2022-05-12T17:18:53.987096Z",
          "iopub.status.busy": "2022-05-12T17:18:53.986825Z",
          "iopub.status.idle": "2022-05-12T17:18:54.001196Z",
          "shell.execute_reply": "2022-05-12T17:18:54.000271Z"
        },
        "papermill": {
          "duration": 0.072525,
          "end_time": "2022-05-12T17:18:54.004271",
          "exception": false,
          "start_time": "2022-05-12T17:18:53.931746",
          "status": "completed"
        },
        "tags": [],
        "id": "c25215c7",
        "outputId": "59d80520-adee-4054-d377-97aa5f54e50f",
        "colab": {
          "base_uri": "https://localhost:8080/",
          "height": 206
        }
      },
      "outputs": [
        {
          "output_type": "execute_result",
          "data": {
            "text/plain": [
              "  species  island  culmen_length_mm  culmen_depth_mm  flipper_length_mm  \\\n",
              "0  Adelie       2               0.0             18.7              181.0   \n",
              "1  Adelie       2               0.0             17.4              186.0   \n",
              "2  Adelie       2               0.0             18.0              195.0   \n",
              "3  Adelie       2               0.0             18.4              191.0   \n",
              "4  Adelie       2               0.0             19.3              193.0   \n",
              "\n",
              "   body_mass_g Categorical_culmen_length  \n",
              "0       3750.0          (32.072, 41.267]  \n",
              "1       3800.0          (32.072, 41.267]  \n",
              "2       3250.0          (32.072, 41.267]  \n",
              "3       3700.0          (32.072, 41.267]  \n",
              "4       3450.0          (32.072, 41.267]  "
            ],
            "text/html": [
              "\n",
              "  <div id=\"df-8feeee9c-c7eb-401f-969a-a06b7c642a56\">\n",
              "    <div class=\"colab-df-container\">\n",
              "      <div>\n",
              "<style scoped>\n",
              "    .dataframe tbody tr th:only-of-type {\n",
              "        vertical-align: middle;\n",
              "    }\n",
              "\n",
              "    .dataframe tbody tr th {\n",
              "        vertical-align: top;\n",
              "    }\n",
              "\n",
              "    .dataframe thead th {\n",
              "        text-align: right;\n",
              "    }\n",
              "</style>\n",
              "<table border=\"1\" class=\"dataframe\">\n",
              "  <thead>\n",
              "    <tr style=\"text-align: right;\">\n",
              "      <th></th>\n",
              "      <th>species</th>\n",
              "      <th>island</th>\n",
              "      <th>culmen_length_mm</th>\n",
              "      <th>culmen_depth_mm</th>\n",
              "      <th>flipper_length_mm</th>\n",
              "      <th>body_mass_g</th>\n",
              "      <th>Categorical_culmen_length</th>\n",
              "    </tr>\n",
              "  </thead>\n",
              "  <tbody>\n",
              "    <tr>\n",
              "      <th>0</th>\n",
              "      <td>Adelie</td>\n",
              "      <td>2</td>\n",
              "      <td>0.0</td>\n",
              "      <td>18.7</td>\n",
              "      <td>181.0</td>\n",
              "      <td>3750.0</td>\n",
              "      <td>(32.072, 41.267]</td>\n",
              "    </tr>\n",
              "    <tr>\n",
              "      <th>1</th>\n",
              "      <td>Adelie</td>\n",
              "      <td>2</td>\n",
              "      <td>0.0</td>\n",
              "      <td>17.4</td>\n",
              "      <td>186.0</td>\n",
              "      <td>3800.0</td>\n",
              "      <td>(32.072, 41.267]</td>\n",
              "    </tr>\n",
              "    <tr>\n",
              "      <th>2</th>\n",
              "      <td>Adelie</td>\n",
              "      <td>2</td>\n",
              "      <td>0.0</td>\n",
              "      <td>18.0</td>\n",
              "      <td>195.0</td>\n",
              "      <td>3250.0</td>\n",
              "      <td>(32.072, 41.267]</td>\n",
              "    </tr>\n",
              "    <tr>\n",
              "      <th>3</th>\n",
              "      <td>Adelie</td>\n",
              "      <td>2</td>\n",
              "      <td>0.0</td>\n",
              "      <td>18.4</td>\n",
              "      <td>191.0</td>\n",
              "      <td>3700.0</td>\n",
              "      <td>(32.072, 41.267]</td>\n",
              "    </tr>\n",
              "    <tr>\n",
              "      <th>4</th>\n",
              "      <td>Adelie</td>\n",
              "      <td>2</td>\n",
              "      <td>0.0</td>\n",
              "      <td>19.3</td>\n",
              "      <td>193.0</td>\n",
              "      <td>3450.0</td>\n",
              "      <td>(32.072, 41.267]</td>\n",
              "    </tr>\n",
              "  </tbody>\n",
              "</table>\n",
              "</div>\n",
              "      <button class=\"colab-df-convert\" onclick=\"convertToInteractive('df-8feeee9c-c7eb-401f-969a-a06b7c642a56')\"\n",
              "              title=\"Convert this dataframe to an interactive table.\"\n",
              "              style=\"display:none;\">\n",
              "        \n",
              "  <svg xmlns=\"http://www.w3.org/2000/svg\" height=\"24px\"viewBox=\"0 0 24 24\"\n",
              "       width=\"24px\">\n",
              "    <path d=\"M0 0h24v24H0V0z\" fill=\"none\"/>\n",
              "    <path d=\"M18.56 5.44l.94 2.06.94-2.06 2.06-.94-2.06-.94-.94-2.06-.94 2.06-2.06.94zm-11 1L8.5 8.5l.94-2.06 2.06-.94-2.06-.94L8.5 2.5l-.94 2.06-2.06.94zm10 10l.94 2.06.94-2.06 2.06-.94-2.06-.94-.94-2.06-.94 2.06-2.06.94z\"/><path d=\"M17.41 7.96l-1.37-1.37c-.4-.4-.92-.59-1.43-.59-.52 0-1.04.2-1.43.59L10.3 9.45l-7.72 7.72c-.78.78-.78 2.05 0 2.83L4 21.41c.39.39.9.59 1.41.59.51 0 1.02-.2 1.41-.59l7.78-7.78 2.81-2.81c.8-.78.8-2.07 0-2.86zM5.41 20L4 18.59l7.72-7.72 1.47 1.35L5.41 20z\"/>\n",
              "  </svg>\n",
              "      </button>\n",
              "      \n",
              "  <style>\n",
              "    .colab-df-container {\n",
              "      display:flex;\n",
              "      flex-wrap:wrap;\n",
              "      gap: 12px;\n",
              "    }\n",
              "\n",
              "    .colab-df-convert {\n",
              "      background-color: #E8F0FE;\n",
              "      border: none;\n",
              "      border-radius: 50%;\n",
              "      cursor: pointer;\n",
              "      display: none;\n",
              "      fill: #1967D2;\n",
              "      height: 32px;\n",
              "      padding: 0 0 0 0;\n",
              "      width: 32px;\n",
              "    }\n",
              "\n",
              "    .colab-df-convert:hover {\n",
              "      background-color: #E2EBFA;\n",
              "      box-shadow: 0px 1px 2px rgba(60, 64, 67, 0.3), 0px 1px 3px 1px rgba(60, 64, 67, 0.15);\n",
              "      fill: #174EA6;\n",
              "    }\n",
              "\n",
              "    [theme=dark] .colab-df-convert {\n",
              "      background-color: #3B4455;\n",
              "      fill: #D2E3FC;\n",
              "    }\n",
              "\n",
              "    [theme=dark] .colab-df-convert:hover {\n",
              "      background-color: #434B5C;\n",
              "      box-shadow: 0px 1px 3px 1px rgba(0, 0, 0, 0.15);\n",
              "      filter: drop-shadow(0px 1px 2px rgba(0, 0, 0, 0.3));\n",
              "      fill: #FFFFFF;\n",
              "    }\n",
              "  </style>\n",
              "\n",
              "      <script>\n",
              "        const buttonEl =\n",
              "          document.querySelector('#df-8feeee9c-c7eb-401f-969a-a06b7c642a56 button.colab-df-convert');\n",
              "        buttonEl.style.display =\n",
              "          google.colab.kernel.accessAllowed ? 'block' : 'none';\n",
              "\n",
              "        async function convertToInteractive(key) {\n",
              "          const element = document.querySelector('#df-8feeee9c-c7eb-401f-969a-a06b7c642a56');\n",
              "          const dataTable =\n",
              "            await google.colab.kernel.invokeFunction('convertToInteractive',\n",
              "                                                     [key], {});\n",
              "          if (!dataTable) return;\n",
              "\n",
              "          const docLinkHtml = 'Like what you see? Visit the ' +\n",
              "            '<a target=\"_blank\" href=https://colab.research.google.com/notebooks/data_table.ipynb>data table notebook</a>'\n",
              "            + ' to learn more about interactive tables.';\n",
              "          element.innerHTML = '';\n",
              "          dataTable['output_type'] = 'display_data';\n",
              "          await google.colab.output.renderOutput(dataTable, element);\n",
              "          const docLink = document.createElement('div');\n",
              "          docLink.innerHTML = docLinkHtml;\n",
              "          element.appendChild(docLink);\n",
              "        }\n",
              "      </script>\n",
              "    </div>\n",
              "  </div>\n",
              "  "
            ]
          },
          "metadata": {},
          "execution_count": 24
        }
      ],
      "source": [
        "data.head()"
      ]
    },
    {
      "cell_type": "markdown",
      "id": "69c9e778",
      "metadata": {
        "papermill": {
          "duration": 0.054733,
          "end_time": "2022-05-12T17:18:54.114858",
          "exception": false,
          "start_time": "2022-05-12T17:18:54.060125",
          "status": "completed"
        },
        "tags": [],
        "id": "69c9e778"
      },
      "source": [
        "**Culmen Depth**"
      ]
    },
    {
      "cell_type": "code",
      "execution_count": null,
      "id": "3077041b",
      "metadata": {
        "execution": {
          "iopub.execute_input": "2022-05-12T17:18:54.226191Z",
          "iopub.status.busy": "2022-05-12T17:18:54.225932Z",
          "iopub.status.idle": "2022-05-12T17:18:54.235367Z",
          "shell.execute_reply": "2022-05-12T17:18:54.234592Z"
        },
        "papermill": {
          "duration": 0.067725,
          "end_time": "2022-05-12T17:18:54.237093",
          "exception": false,
          "start_time": "2022-05-12T17:18:54.169368",
          "status": "completed"
        },
        "tags": [],
        "id": "3077041b",
        "outputId": "fb78f925-2297-438d-951c-1d3660dbc2d4",
        "colab": {
          "base_uri": "https://localhost:8080/"
        }
      },
      "outputs": [
        {
          "output_type": "execute_result",
          "data": {
            "text/plain": [
              "count    344.000000\n",
              "mean      17.150000\n",
              "std        1.972197\n",
              "min       13.100000\n",
              "25%       15.575000\n",
              "50%       17.300000\n",
              "75%       18.700000\n",
              "max       21.500000\n",
              "Name: culmen_depth_mm, dtype: float64"
            ]
          },
          "metadata": {},
          "execution_count": 25
        }
      ],
      "source": [
        "data['culmen_depth_mm'].describe()"
      ]
    },
    {
      "cell_type": "code",
      "execution_count": null,
      "id": "792886fc",
      "metadata": {
        "execution": {
          "iopub.execute_input": "2022-05-12T17:18:54.349680Z",
          "iopub.status.busy": "2022-05-12T17:18:54.349414Z",
          "iopub.status.idle": "2022-05-12T17:18:54.360040Z",
          "shell.execute_reply": "2022-05-12T17:18:54.359191Z"
        },
        "papermill": {
          "duration": 0.069264,
          "end_time": "2022-05-12T17:18:54.362869",
          "exception": false,
          "start_time": "2022-05-12T17:18:54.293605",
          "status": "completed"
        },
        "tags": [],
        "id": "792886fc",
        "outputId": "0225ed21-2f1e-443d-941d-abd7b0eaff50",
        "colab": {
          "base_uri": "https://localhost:8080/"
        }
      },
      "outputs": [
        {
          "output_type": "stream",
          "name": "stdout",
          "text": [
            "0        (15.9, 18.7]\n",
            "1        (15.9, 18.7]\n",
            "2        (15.9, 18.7]\n",
            "3        (15.9, 18.7]\n",
            "4        (18.7, 21.5]\n",
            "            ...      \n",
            "339    (13.092, 15.9]\n",
            "340    (13.092, 15.9]\n",
            "341    (13.092, 15.9]\n",
            "342    (13.092, 15.9]\n",
            "343      (15.9, 18.7]\n",
            "Name: Categorical_culmen_depth, Length: 344, dtype: category\n",
            "Categories (3, interval[float64, right]): [(13.092, 15.9] < (15.9, 18.7] < (18.7, 21.5]]\n"
          ]
        }
      ],
      "source": [
        "data['Categorical_culmen_depth'] = pd.cut(data['culmen_depth_mm'], 3)\n",
        "print(data['Categorical_culmen_depth'])"
      ]
    },
    {
      "cell_type": "code",
      "execution_count": null,
      "id": "ebcff9ca",
      "metadata": {
        "execution": {
          "iopub.execute_input": "2022-05-12T17:18:54.478580Z",
          "iopub.status.busy": "2022-05-12T17:18:54.478320Z",
          "iopub.status.idle": "2022-05-12T17:18:54.485590Z",
          "shell.execute_reply": "2022-05-12T17:18:54.484835Z"
        },
        "papermill": {
          "duration": 0.065548,
          "end_time": "2022-05-12T17:18:54.487369",
          "exception": false,
          "start_time": "2022-05-12T17:18:54.421821",
          "status": "completed"
        },
        "tags": [],
        "id": "ebcff9ca"
      },
      "outputs": [],
      "source": [
        "for _data in dataset:\n",
        "    _data.loc[_data['culmen_depth_mm']<=15.9, 'culmen_depth_mm'] = 0\n",
        "    _data.loc[(_data['culmen_depth_mm'] > 15.9) & (data['culmen_depth_mm'] <= 18.7), 'culmen_depth_mm'] = 1\n",
        "    _data.loc[_data['culmen_depth_mm']>18.7, 'culmen_depth_mm'] = 2"
      ]
    },
    {
      "cell_type": "code",
      "execution_count": null,
      "id": "674d2333",
      "metadata": {
        "execution": {
          "iopub.execute_input": "2022-05-12T17:18:54.600559Z",
          "iopub.status.busy": "2022-05-12T17:18:54.599991Z",
          "iopub.status.idle": "2022-05-12T17:18:54.615360Z",
          "shell.execute_reply": "2022-05-12T17:18:54.614697Z"
        },
        "papermill": {
          "duration": 0.074202,
          "end_time": "2022-05-12T17:18:54.617013",
          "exception": false,
          "start_time": "2022-05-12T17:18:54.542811",
          "status": "completed"
        },
        "tags": [],
        "id": "674d2333",
        "outputId": "e88a67ec-6458-49cc-f8ef-426e51b729ae",
        "colab": {
          "base_uri": "https://localhost:8080/",
          "height": 206
        }
      },
      "outputs": [
        {
          "output_type": "execute_result",
          "data": {
            "text/plain": [
              "  species  island  culmen_length_mm  culmen_depth_mm  flipper_length_mm  \\\n",
              "0  Adelie       2               0.0              1.0              181.0   \n",
              "1  Adelie       2               0.0              1.0              186.0   \n",
              "2  Adelie       2               0.0              1.0              195.0   \n",
              "3  Adelie       2               0.0              1.0              191.0   \n",
              "4  Adelie       2               0.0              2.0              193.0   \n",
              "\n",
              "   body_mass_g Categorical_culmen_length Categorical_culmen_depth  \n",
              "0       3750.0          (32.072, 41.267]             (15.9, 18.7]  \n",
              "1       3800.0          (32.072, 41.267]             (15.9, 18.7]  \n",
              "2       3250.0          (32.072, 41.267]             (15.9, 18.7]  \n",
              "3       3700.0          (32.072, 41.267]             (15.9, 18.7]  \n",
              "4       3450.0          (32.072, 41.267]             (18.7, 21.5]  "
            ],
            "text/html": [
              "\n",
              "  <div id=\"df-d97fa744-6267-4ad3-ac27-e338d87d4422\">\n",
              "    <div class=\"colab-df-container\">\n",
              "      <div>\n",
              "<style scoped>\n",
              "    .dataframe tbody tr th:only-of-type {\n",
              "        vertical-align: middle;\n",
              "    }\n",
              "\n",
              "    .dataframe tbody tr th {\n",
              "        vertical-align: top;\n",
              "    }\n",
              "\n",
              "    .dataframe thead th {\n",
              "        text-align: right;\n",
              "    }\n",
              "</style>\n",
              "<table border=\"1\" class=\"dataframe\">\n",
              "  <thead>\n",
              "    <tr style=\"text-align: right;\">\n",
              "      <th></th>\n",
              "      <th>species</th>\n",
              "      <th>island</th>\n",
              "      <th>culmen_length_mm</th>\n",
              "      <th>culmen_depth_mm</th>\n",
              "      <th>flipper_length_mm</th>\n",
              "      <th>body_mass_g</th>\n",
              "      <th>Categorical_culmen_length</th>\n",
              "      <th>Categorical_culmen_depth</th>\n",
              "    </tr>\n",
              "  </thead>\n",
              "  <tbody>\n",
              "    <tr>\n",
              "      <th>0</th>\n",
              "      <td>Adelie</td>\n",
              "      <td>2</td>\n",
              "      <td>0.0</td>\n",
              "      <td>1.0</td>\n",
              "      <td>181.0</td>\n",
              "      <td>3750.0</td>\n",
              "      <td>(32.072, 41.267]</td>\n",
              "      <td>(15.9, 18.7]</td>\n",
              "    </tr>\n",
              "    <tr>\n",
              "      <th>1</th>\n",
              "      <td>Adelie</td>\n",
              "      <td>2</td>\n",
              "      <td>0.0</td>\n",
              "      <td>1.0</td>\n",
              "      <td>186.0</td>\n",
              "      <td>3800.0</td>\n",
              "      <td>(32.072, 41.267]</td>\n",
              "      <td>(15.9, 18.7]</td>\n",
              "    </tr>\n",
              "    <tr>\n",
              "      <th>2</th>\n",
              "      <td>Adelie</td>\n",
              "      <td>2</td>\n",
              "      <td>0.0</td>\n",
              "      <td>1.0</td>\n",
              "      <td>195.0</td>\n",
              "      <td>3250.0</td>\n",
              "      <td>(32.072, 41.267]</td>\n",
              "      <td>(15.9, 18.7]</td>\n",
              "    </tr>\n",
              "    <tr>\n",
              "      <th>3</th>\n",
              "      <td>Adelie</td>\n",
              "      <td>2</td>\n",
              "      <td>0.0</td>\n",
              "      <td>1.0</td>\n",
              "      <td>191.0</td>\n",
              "      <td>3700.0</td>\n",
              "      <td>(32.072, 41.267]</td>\n",
              "      <td>(15.9, 18.7]</td>\n",
              "    </tr>\n",
              "    <tr>\n",
              "      <th>4</th>\n",
              "      <td>Adelie</td>\n",
              "      <td>2</td>\n",
              "      <td>0.0</td>\n",
              "      <td>2.0</td>\n",
              "      <td>193.0</td>\n",
              "      <td>3450.0</td>\n",
              "      <td>(32.072, 41.267]</td>\n",
              "      <td>(18.7, 21.5]</td>\n",
              "    </tr>\n",
              "  </tbody>\n",
              "</table>\n",
              "</div>\n",
              "      <button class=\"colab-df-convert\" onclick=\"convertToInteractive('df-d97fa744-6267-4ad3-ac27-e338d87d4422')\"\n",
              "              title=\"Convert this dataframe to an interactive table.\"\n",
              "              style=\"display:none;\">\n",
              "        \n",
              "  <svg xmlns=\"http://www.w3.org/2000/svg\" height=\"24px\"viewBox=\"0 0 24 24\"\n",
              "       width=\"24px\">\n",
              "    <path d=\"M0 0h24v24H0V0z\" fill=\"none\"/>\n",
              "    <path d=\"M18.56 5.44l.94 2.06.94-2.06 2.06-.94-2.06-.94-.94-2.06-.94 2.06-2.06.94zm-11 1L8.5 8.5l.94-2.06 2.06-.94-2.06-.94L8.5 2.5l-.94 2.06-2.06.94zm10 10l.94 2.06.94-2.06 2.06-.94-2.06-.94-.94-2.06-.94 2.06-2.06.94z\"/><path d=\"M17.41 7.96l-1.37-1.37c-.4-.4-.92-.59-1.43-.59-.52 0-1.04.2-1.43.59L10.3 9.45l-7.72 7.72c-.78.78-.78 2.05 0 2.83L4 21.41c.39.39.9.59 1.41.59.51 0 1.02-.2 1.41-.59l7.78-7.78 2.81-2.81c.8-.78.8-2.07 0-2.86zM5.41 20L4 18.59l7.72-7.72 1.47 1.35L5.41 20z\"/>\n",
              "  </svg>\n",
              "      </button>\n",
              "      \n",
              "  <style>\n",
              "    .colab-df-container {\n",
              "      display:flex;\n",
              "      flex-wrap:wrap;\n",
              "      gap: 12px;\n",
              "    }\n",
              "\n",
              "    .colab-df-convert {\n",
              "      background-color: #E8F0FE;\n",
              "      border: none;\n",
              "      border-radius: 50%;\n",
              "      cursor: pointer;\n",
              "      display: none;\n",
              "      fill: #1967D2;\n",
              "      height: 32px;\n",
              "      padding: 0 0 0 0;\n",
              "      width: 32px;\n",
              "    }\n",
              "\n",
              "    .colab-df-convert:hover {\n",
              "      background-color: #E2EBFA;\n",
              "      box-shadow: 0px 1px 2px rgba(60, 64, 67, 0.3), 0px 1px 3px 1px rgba(60, 64, 67, 0.15);\n",
              "      fill: #174EA6;\n",
              "    }\n",
              "\n",
              "    [theme=dark] .colab-df-convert {\n",
              "      background-color: #3B4455;\n",
              "      fill: #D2E3FC;\n",
              "    }\n",
              "\n",
              "    [theme=dark] .colab-df-convert:hover {\n",
              "      background-color: #434B5C;\n",
              "      box-shadow: 0px 1px 3px 1px rgba(0, 0, 0, 0.15);\n",
              "      filter: drop-shadow(0px 1px 2px rgba(0, 0, 0, 0.3));\n",
              "      fill: #FFFFFF;\n",
              "    }\n",
              "  </style>\n",
              "\n",
              "      <script>\n",
              "        const buttonEl =\n",
              "          document.querySelector('#df-d97fa744-6267-4ad3-ac27-e338d87d4422 button.colab-df-convert');\n",
              "        buttonEl.style.display =\n",
              "          google.colab.kernel.accessAllowed ? 'block' : 'none';\n",
              "\n",
              "        async function convertToInteractive(key) {\n",
              "          const element = document.querySelector('#df-d97fa744-6267-4ad3-ac27-e338d87d4422');\n",
              "          const dataTable =\n",
              "            await google.colab.kernel.invokeFunction('convertToInteractive',\n",
              "                                                     [key], {});\n",
              "          if (!dataTable) return;\n",
              "\n",
              "          const docLinkHtml = 'Like what you see? Visit the ' +\n",
              "            '<a target=\"_blank\" href=https://colab.research.google.com/notebooks/data_table.ipynb>data table notebook</a>'\n",
              "            + ' to learn more about interactive tables.';\n",
              "          element.innerHTML = '';\n",
              "          dataTable['output_type'] = 'display_data';\n",
              "          await google.colab.output.renderOutput(dataTable, element);\n",
              "          const docLink = document.createElement('div');\n",
              "          docLink.innerHTML = docLinkHtml;\n",
              "          element.appendChild(docLink);\n",
              "        }\n",
              "      </script>\n",
              "    </div>\n",
              "  </div>\n",
              "  "
            ]
          },
          "metadata": {},
          "execution_count": 28
        }
      ],
      "source": [
        "data.head()"
      ]
    },
    {
      "cell_type": "markdown",
      "id": "adfd981e",
      "metadata": {
        "papermill": {
          "duration": 0.060572,
          "end_time": "2022-05-12T17:18:54.734340",
          "exception": false,
          "start_time": "2022-05-12T17:18:54.673768",
          "status": "completed"
        },
        "tags": [],
        "id": "adfd981e"
      },
      "source": [
        "**Flipper Length**"
      ]
    },
    {
      "cell_type": "code",
      "execution_count": null,
      "id": "05ecd684",
      "metadata": {
        "execution": {
          "iopub.execute_input": "2022-05-12T17:18:54.853353Z",
          "iopub.status.busy": "2022-05-12T17:18:54.853088Z",
          "iopub.status.idle": "2022-05-12T17:18:54.863163Z",
          "shell.execute_reply": "2022-05-12T17:18:54.862387Z"
        },
        "papermill": {
          "duration": 0.070089,
          "end_time": "2022-05-12T17:18:54.865060",
          "exception": false,
          "start_time": "2022-05-12T17:18:54.794971",
          "status": "completed"
        },
        "tags": [],
        "id": "05ecd684",
        "outputId": "3b31a3f0-7a3a-4977-b6cb-3b60f547f6a2",
        "colab": {
          "base_uri": "https://localhost:8080/"
        }
      },
      "outputs": [
        {
          "output_type": "execute_result",
          "data": {
            "text/plain": [
              "count    344.000000\n",
              "mean     200.924419\n",
              "std       14.048649\n",
              "min      172.000000\n",
              "25%      190.000000\n",
              "50%      197.000000\n",
              "75%      213.250000\n",
              "max      231.000000\n",
              "Name: flipper_length_mm, dtype: float64"
            ]
          },
          "metadata": {},
          "execution_count": 29
        }
      ],
      "source": [
        "data['flipper_length_mm'].describe()"
      ]
    },
    {
      "cell_type": "code",
      "execution_count": null,
      "id": "1987ee85",
      "metadata": {
        "execution": {
          "iopub.execute_input": "2022-05-12T17:18:54.983691Z",
          "iopub.status.busy": "2022-05-12T17:18:54.983466Z",
          "iopub.status.idle": "2022-05-12T17:18:54.994185Z",
          "shell.execute_reply": "2022-05-12T17:18:54.992883Z"
        },
        "papermill": {
          "duration": 0.06957,
          "end_time": "2022-05-12T17:18:54.995867",
          "exception": false,
          "start_time": "2022-05-12T17:18:54.926297",
          "status": "completed"
        },
        "tags": [],
        "id": "1987ee85",
        "outputId": "22f2003e-ac99-4eac-89c7-170b9f5f9fdf",
        "colab": {
          "base_uri": "https://localhost:8080/"
        }
      },
      "outputs": [
        {
          "output_type": "stream",
          "name": "stdout",
          "text": [
            "0      (171.941, 191.667]\n",
            "1      (171.941, 191.667]\n",
            "2      (191.667, 211.333]\n",
            "3      (171.941, 191.667]\n",
            "4      (191.667, 211.333]\n",
            "              ...        \n",
            "339      (211.333, 231.0]\n",
            "340      (211.333, 231.0]\n",
            "341      (211.333, 231.0]\n",
            "342      (211.333, 231.0]\n",
            "343      (211.333, 231.0]\n",
            "Name: Categorical_flipper_length, Length: 344, dtype: category\n",
            "Categories (3, interval[float64, right]): [(171.941, 191.667] < (191.667, 211.333] < (211.333, 231.0]]\n"
          ]
        }
      ],
      "source": [
        "data['Categorical_flipper_length'] = pd.cut(data['flipper_length_mm'], 3)\n",
        "print(data['Categorical_flipper_length'])"
      ]
    },
    {
      "cell_type": "code",
      "execution_count": null,
      "id": "19841a70",
      "metadata": {
        "execution": {
          "iopub.execute_input": "2022-05-12T17:18:55.112599Z",
          "iopub.status.busy": "2022-05-12T17:18:55.112344Z",
          "iopub.status.idle": "2022-05-12T17:18:55.119333Z",
          "shell.execute_reply": "2022-05-12T17:18:55.118637Z"
        },
        "papermill": {
          "duration": 0.06692,
          "end_time": "2022-05-12T17:18:55.121072",
          "exception": false,
          "start_time": "2022-05-12T17:18:55.054152",
          "status": "completed"
        },
        "tags": [],
        "id": "19841a70"
      },
      "outputs": [],
      "source": [
        "for _data in dataset:\n",
        "    _data.loc[_data['flipper_length_mm']<=191.667, 'flipper_length_mm'] = 0\n",
        "    _data.loc[(_data['flipper_length_mm'] > 191.667) & (data['flipper_length_mm'] <= 211.333), 'flipper_length_mm'] = 1\n",
        "    _data.loc[_data['flipper_length_mm']>211.333, 'flipper_length_mm'] = 2"
      ]
    },
    {
      "cell_type": "code",
      "execution_count": null,
      "id": "f423e1c0",
      "metadata": {
        "execution": {
          "iopub.execute_input": "2022-05-12T17:18:55.241560Z",
          "iopub.status.busy": "2022-05-12T17:18:55.240923Z",
          "iopub.status.idle": "2022-05-12T17:18:55.262331Z",
          "shell.execute_reply": "2022-05-12T17:18:55.261590Z"
        },
        "papermill": {
          "duration": 0.087134,
          "end_time": "2022-05-12T17:18:55.264547",
          "exception": false,
          "start_time": "2022-05-12T17:18:55.177413",
          "status": "completed"
        },
        "tags": [],
        "id": "f423e1c0",
        "outputId": "990dc700-f8de-4ae9-d3a5-5af63c7a5fa2",
        "colab": {
          "base_uri": "https://localhost:8080/",
          "height": 270
        }
      },
      "outputs": [
        {
          "output_type": "execute_result",
          "data": {
            "text/plain": [
              "  species  island  culmen_length_mm  culmen_depth_mm  flipper_length_mm  \\\n",
              "0  Adelie       2               0.0              1.0                0.0   \n",
              "1  Adelie       2               0.0              1.0                0.0   \n",
              "2  Adelie       2               0.0              1.0                1.0   \n",
              "3  Adelie       2               0.0              1.0                0.0   \n",
              "4  Adelie       2               0.0              2.0                1.0   \n",
              "\n",
              "   body_mass_g Categorical_culmen_length Categorical_culmen_depth  \\\n",
              "0       3750.0          (32.072, 41.267]             (15.9, 18.7]   \n",
              "1       3800.0          (32.072, 41.267]             (15.9, 18.7]   \n",
              "2       3250.0          (32.072, 41.267]             (15.9, 18.7]   \n",
              "3       3700.0          (32.072, 41.267]             (15.9, 18.7]   \n",
              "4       3450.0          (32.072, 41.267]             (18.7, 21.5]   \n",
              "\n",
              "  Categorical_flipper_length  \n",
              "0         (171.941, 191.667]  \n",
              "1         (171.941, 191.667]  \n",
              "2         (191.667, 211.333]  \n",
              "3         (171.941, 191.667]  \n",
              "4         (191.667, 211.333]  "
            ],
            "text/html": [
              "\n",
              "  <div id=\"df-41bb7be1-84dc-4a56-898a-4426ab738709\">\n",
              "    <div class=\"colab-df-container\">\n",
              "      <div>\n",
              "<style scoped>\n",
              "    .dataframe tbody tr th:only-of-type {\n",
              "        vertical-align: middle;\n",
              "    }\n",
              "\n",
              "    .dataframe tbody tr th {\n",
              "        vertical-align: top;\n",
              "    }\n",
              "\n",
              "    .dataframe thead th {\n",
              "        text-align: right;\n",
              "    }\n",
              "</style>\n",
              "<table border=\"1\" class=\"dataframe\">\n",
              "  <thead>\n",
              "    <tr style=\"text-align: right;\">\n",
              "      <th></th>\n",
              "      <th>species</th>\n",
              "      <th>island</th>\n",
              "      <th>culmen_length_mm</th>\n",
              "      <th>culmen_depth_mm</th>\n",
              "      <th>flipper_length_mm</th>\n",
              "      <th>body_mass_g</th>\n",
              "      <th>Categorical_culmen_length</th>\n",
              "      <th>Categorical_culmen_depth</th>\n",
              "      <th>Categorical_flipper_length</th>\n",
              "    </tr>\n",
              "  </thead>\n",
              "  <tbody>\n",
              "    <tr>\n",
              "      <th>0</th>\n",
              "      <td>Adelie</td>\n",
              "      <td>2</td>\n",
              "      <td>0.0</td>\n",
              "      <td>1.0</td>\n",
              "      <td>0.0</td>\n",
              "      <td>3750.0</td>\n",
              "      <td>(32.072, 41.267]</td>\n",
              "      <td>(15.9, 18.7]</td>\n",
              "      <td>(171.941, 191.667]</td>\n",
              "    </tr>\n",
              "    <tr>\n",
              "      <th>1</th>\n",
              "      <td>Adelie</td>\n",
              "      <td>2</td>\n",
              "      <td>0.0</td>\n",
              "      <td>1.0</td>\n",
              "      <td>0.0</td>\n",
              "      <td>3800.0</td>\n",
              "      <td>(32.072, 41.267]</td>\n",
              "      <td>(15.9, 18.7]</td>\n",
              "      <td>(171.941, 191.667]</td>\n",
              "    </tr>\n",
              "    <tr>\n",
              "      <th>2</th>\n",
              "      <td>Adelie</td>\n",
              "      <td>2</td>\n",
              "      <td>0.0</td>\n",
              "      <td>1.0</td>\n",
              "      <td>1.0</td>\n",
              "      <td>3250.0</td>\n",
              "      <td>(32.072, 41.267]</td>\n",
              "      <td>(15.9, 18.7]</td>\n",
              "      <td>(191.667, 211.333]</td>\n",
              "    </tr>\n",
              "    <tr>\n",
              "      <th>3</th>\n",
              "      <td>Adelie</td>\n",
              "      <td>2</td>\n",
              "      <td>0.0</td>\n",
              "      <td>1.0</td>\n",
              "      <td>0.0</td>\n",
              "      <td>3700.0</td>\n",
              "      <td>(32.072, 41.267]</td>\n",
              "      <td>(15.9, 18.7]</td>\n",
              "      <td>(171.941, 191.667]</td>\n",
              "    </tr>\n",
              "    <tr>\n",
              "      <th>4</th>\n",
              "      <td>Adelie</td>\n",
              "      <td>2</td>\n",
              "      <td>0.0</td>\n",
              "      <td>2.0</td>\n",
              "      <td>1.0</td>\n",
              "      <td>3450.0</td>\n",
              "      <td>(32.072, 41.267]</td>\n",
              "      <td>(18.7, 21.5]</td>\n",
              "      <td>(191.667, 211.333]</td>\n",
              "    </tr>\n",
              "  </tbody>\n",
              "</table>\n",
              "</div>\n",
              "      <button class=\"colab-df-convert\" onclick=\"convertToInteractive('df-41bb7be1-84dc-4a56-898a-4426ab738709')\"\n",
              "              title=\"Convert this dataframe to an interactive table.\"\n",
              "              style=\"display:none;\">\n",
              "        \n",
              "  <svg xmlns=\"http://www.w3.org/2000/svg\" height=\"24px\"viewBox=\"0 0 24 24\"\n",
              "       width=\"24px\">\n",
              "    <path d=\"M0 0h24v24H0V0z\" fill=\"none\"/>\n",
              "    <path d=\"M18.56 5.44l.94 2.06.94-2.06 2.06-.94-2.06-.94-.94-2.06-.94 2.06-2.06.94zm-11 1L8.5 8.5l.94-2.06 2.06-.94-2.06-.94L8.5 2.5l-.94 2.06-2.06.94zm10 10l.94 2.06.94-2.06 2.06-.94-2.06-.94-.94-2.06-.94 2.06-2.06.94z\"/><path d=\"M17.41 7.96l-1.37-1.37c-.4-.4-.92-.59-1.43-.59-.52 0-1.04.2-1.43.59L10.3 9.45l-7.72 7.72c-.78.78-.78 2.05 0 2.83L4 21.41c.39.39.9.59 1.41.59.51 0 1.02-.2 1.41-.59l7.78-7.78 2.81-2.81c.8-.78.8-2.07 0-2.86zM5.41 20L4 18.59l7.72-7.72 1.47 1.35L5.41 20z\"/>\n",
              "  </svg>\n",
              "      </button>\n",
              "      \n",
              "  <style>\n",
              "    .colab-df-container {\n",
              "      display:flex;\n",
              "      flex-wrap:wrap;\n",
              "      gap: 12px;\n",
              "    }\n",
              "\n",
              "    .colab-df-convert {\n",
              "      background-color: #E8F0FE;\n",
              "      border: none;\n",
              "      border-radius: 50%;\n",
              "      cursor: pointer;\n",
              "      display: none;\n",
              "      fill: #1967D2;\n",
              "      height: 32px;\n",
              "      padding: 0 0 0 0;\n",
              "      width: 32px;\n",
              "    }\n",
              "\n",
              "    .colab-df-convert:hover {\n",
              "      background-color: #E2EBFA;\n",
              "      box-shadow: 0px 1px 2px rgba(60, 64, 67, 0.3), 0px 1px 3px 1px rgba(60, 64, 67, 0.15);\n",
              "      fill: #174EA6;\n",
              "    }\n",
              "\n",
              "    [theme=dark] .colab-df-convert {\n",
              "      background-color: #3B4455;\n",
              "      fill: #D2E3FC;\n",
              "    }\n",
              "\n",
              "    [theme=dark] .colab-df-convert:hover {\n",
              "      background-color: #434B5C;\n",
              "      box-shadow: 0px 1px 3px 1px rgba(0, 0, 0, 0.15);\n",
              "      filter: drop-shadow(0px 1px 2px rgba(0, 0, 0, 0.3));\n",
              "      fill: #FFFFFF;\n",
              "    }\n",
              "  </style>\n",
              "\n",
              "      <script>\n",
              "        const buttonEl =\n",
              "          document.querySelector('#df-41bb7be1-84dc-4a56-898a-4426ab738709 button.colab-df-convert');\n",
              "        buttonEl.style.display =\n",
              "          google.colab.kernel.accessAllowed ? 'block' : 'none';\n",
              "\n",
              "        async function convertToInteractive(key) {\n",
              "          const element = document.querySelector('#df-41bb7be1-84dc-4a56-898a-4426ab738709');\n",
              "          const dataTable =\n",
              "            await google.colab.kernel.invokeFunction('convertToInteractive',\n",
              "                                                     [key], {});\n",
              "          if (!dataTable) return;\n",
              "\n",
              "          const docLinkHtml = 'Like what you see? Visit the ' +\n",
              "            '<a target=\"_blank\" href=https://colab.research.google.com/notebooks/data_table.ipynb>data table notebook</a>'\n",
              "            + ' to learn more about interactive tables.';\n",
              "          element.innerHTML = '';\n",
              "          dataTable['output_type'] = 'display_data';\n",
              "          await google.colab.output.renderOutput(dataTable, element);\n",
              "          const docLink = document.createElement('div');\n",
              "          docLink.innerHTML = docLinkHtml;\n",
              "          element.appendChild(docLink);\n",
              "        }\n",
              "      </script>\n",
              "    </div>\n",
              "  </div>\n",
              "  "
            ]
          },
          "metadata": {},
          "execution_count": 32
        }
      ],
      "source": [
        "data.head()"
      ]
    },
    {
      "cell_type": "markdown",
      "id": "ef27ca1d",
      "metadata": {
        "papermill": {
          "duration": 0.060747,
          "end_time": "2022-05-12T17:18:55.389994",
          "exception": false,
          "start_time": "2022-05-12T17:18:55.329247",
          "status": "completed"
        },
        "tags": [],
        "id": "ef27ca1d"
      },
      "source": [
        "**Body Mass**"
      ]
    },
    {
      "cell_type": "code",
      "execution_count": null,
      "id": "571dd81f",
      "metadata": {
        "execution": {
          "iopub.execute_input": "2022-05-12T17:18:55.505415Z",
          "iopub.status.busy": "2022-05-12T17:18:55.505158Z",
          "iopub.status.idle": "2022-05-12T17:18:55.514002Z",
          "shell.execute_reply": "2022-05-12T17:18:55.513237Z"
        },
        "papermill": {
          "duration": 0.069585,
          "end_time": "2022-05-12T17:18:55.516675",
          "exception": false,
          "start_time": "2022-05-12T17:18:55.447090",
          "status": "completed"
        },
        "tags": [],
        "id": "571dd81f",
        "outputId": "b56dcee3-6518-455c-c8d9-f2239f1fd9a5",
        "colab": {
          "base_uri": "https://localhost:8080/"
        }
      },
      "outputs": [
        {
          "output_type": "execute_result",
          "data": {
            "text/plain": [
              "count     344.000000\n",
              "mean     4201.962209\n",
              "std       800.670365\n",
              "min      2700.000000\n",
              "25%      3550.000000\n",
              "50%      4050.000000\n",
              "75%      4756.250000\n",
              "max      6300.000000\n",
              "Name: body_mass_g, dtype: float64"
            ]
          },
          "metadata": {},
          "execution_count": 33
        }
      ],
      "source": [
        "data['body_mass_g'].describe()"
      ]
    },
    {
      "cell_type": "code",
      "execution_count": null,
      "id": "3d7f02af",
      "metadata": {
        "execution": {
          "iopub.execute_input": "2022-05-12T17:18:55.634766Z",
          "iopub.status.busy": "2022-05-12T17:18:55.634504Z",
          "iopub.status.idle": "2022-05-12T17:18:55.646215Z",
          "shell.execute_reply": "2022-05-12T17:18:55.645527Z"
        },
        "papermill": {
          "duration": 0.071414,
          "end_time": "2022-05-12T17:18:55.647926",
          "exception": false,
          "start_time": "2022-05-12T17:18:55.576512",
          "status": "completed"
        },
        "tags": [],
        "id": "3d7f02af",
        "outputId": "f0c1b6bb-4dae-495d-9bbc-12e78f6d8f98",
        "colab": {
          "base_uri": "https://localhost:8080/"
        }
      },
      "outputs": [
        {
          "output_type": "stream",
          "name": "stdout",
          "text": [
            "0      (2696.4, 3900.0]\n",
            "1      (2696.4, 3900.0]\n",
            "2      (2696.4, 3900.0]\n",
            "3      (2696.4, 3900.0]\n",
            "4      (2696.4, 3900.0]\n",
            "             ...       \n",
            "339    (3900.0, 5100.0]\n",
            "340    (3900.0, 5100.0]\n",
            "341    (5100.0, 6300.0]\n",
            "342    (5100.0, 6300.0]\n",
            "343    (5100.0, 6300.0]\n",
            "Name: Categorical_body_mass_g, Length: 344, dtype: category\n",
            "Categories (3, interval[float64, right]): [(2696.4, 3900.0] < (3900.0, 5100.0] < (5100.0, 6300.0]]\n"
          ]
        }
      ],
      "source": [
        "data['Categorical_body_mass_g'] = pd.cut(data['body_mass_g'], 3)\n",
        "print(data['Categorical_body_mass_g'])"
      ]
    },
    {
      "cell_type": "code",
      "execution_count": null,
      "id": "3c947469",
      "metadata": {
        "execution": {
          "iopub.execute_input": "2022-05-12T17:18:55.766890Z",
          "iopub.status.busy": "2022-05-12T17:18:55.766179Z",
          "iopub.status.idle": "2022-05-12T17:18:55.774955Z",
          "shell.execute_reply": "2022-05-12T17:18:55.774275Z"
        },
        "papermill": {
          "duration": 0.06877,
          "end_time": "2022-05-12T17:18:55.776664",
          "exception": false,
          "start_time": "2022-05-12T17:18:55.707894",
          "status": "completed"
        },
        "tags": [],
        "id": "3c947469"
      },
      "outputs": [],
      "source": [
        "for _data in dataset:\n",
        "    _data.loc[_data['body_mass_g']<=3900.0, 'body_mass_g'] = 0\n",
        "    _data.loc[(_data['body_mass_g'] > 3900.0) & (data['body_mass_g'] <= 5100.0), 'body_mass_g'] = 1\n",
        "    _data.loc[_data['body_mass_g']>5100.0, 'body_mass_g'] = 2"
      ]
    },
    {
      "cell_type": "code",
      "execution_count": null,
      "id": "329d0518",
      "metadata": {
        "execution": {
          "iopub.execute_input": "2022-05-12T17:18:55.900378Z",
          "iopub.status.busy": "2022-05-12T17:18:55.900121Z",
          "iopub.status.idle": "2022-05-12T17:18:55.918732Z",
          "shell.execute_reply": "2022-05-12T17:18:55.918018Z"
        },
        "papermill": {
          "duration": 0.085498,
          "end_time": "2022-05-12T17:18:55.920820",
          "exception": false,
          "start_time": "2022-05-12T17:18:55.835322",
          "status": "completed"
        },
        "tags": [],
        "id": "329d0518",
        "outputId": "debf3786-4d1a-4857-8aa4-0cf57ecf49f7",
        "colab": {
          "base_uri": "https://localhost:8080/",
          "height": 270
        }
      },
      "outputs": [
        {
          "output_type": "execute_result",
          "data": {
            "text/plain": [
              "  species  island  culmen_length_mm  culmen_depth_mm  flipper_length_mm  \\\n",
              "0  Adelie       2               0.0              1.0                0.0   \n",
              "1  Adelie       2               0.0              1.0                0.0   \n",
              "2  Adelie       2               0.0              1.0                1.0   \n",
              "3  Adelie       2               0.0              1.0                0.0   \n",
              "4  Adelie       2               0.0              2.0                1.0   \n",
              "\n",
              "   body_mass_g Categorical_culmen_length Categorical_culmen_depth  \\\n",
              "0          0.0          (32.072, 41.267]             (15.9, 18.7]   \n",
              "1          0.0          (32.072, 41.267]             (15.9, 18.7]   \n",
              "2          0.0          (32.072, 41.267]             (15.9, 18.7]   \n",
              "3          0.0          (32.072, 41.267]             (15.9, 18.7]   \n",
              "4          0.0          (32.072, 41.267]             (18.7, 21.5]   \n",
              "\n",
              "  Categorical_flipper_length Categorical_body_mass_g  \n",
              "0         (171.941, 191.667]        (2696.4, 3900.0]  \n",
              "1         (171.941, 191.667]        (2696.4, 3900.0]  \n",
              "2         (191.667, 211.333]        (2696.4, 3900.0]  \n",
              "3         (171.941, 191.667]        (2696.4, 3900.0]  \n",
              "4         (191.667, 211.333]        (2696.4, 3900.0]  "
            ],
            "text/html": [
              "\n",
              "  <div id=\"df-ff0b4f02-7c19-43fa-887c-eef39635bfb6\">\n",
              "    <div class=\"colab-df-container\">\n",
              "      <div>\n",
              "<style scoped>\n",
              "    .dataframe tbody tr th:only-of-type {\n",
              "        vertical-align: middle;\n",
              "    }\n",
              "\n",
              "    .dataframe tbody tr th {\n",
              "        vertical-align: top;\n",
              "    }\n",
              "\n",
              "    .dataframe thead th {\n",
              "        text-align: right;\n",
              "    }\n",
              "</style>\n",
              "<table border=\"1\" class=\"dataframe\">\n",
              "  <thead>\n",
              "    <tr style=\"text-align: right;\">\n",
              "      <th></th>\n",
              "      <th>species</th>\n",
              "      <th>island</th>\n",
              "      <th>culmen_length_mm</th>\n",
              "      <th>culmen_depth_mm</th>\n",
              "      <th>flipper_length_mm</th>\n",
              "      <th>body_mass_g</th>\n",
              "      <th>Categorical_culmen_length</th>\n",
              "      <th>Categorical_culmen_depth</th>\n",
              "      <th>Categorical_flipper_length</th>\n",
              "      <th>Categorical_body_mass_g</th>\n",
              "    </tr>\n",
              "  </thead>\n",
              "  <tbody>\n",
              "    <tr>\n",
              "      <th>0</th>\n",
              "      <td>Adelie</td>\n",
              "      <td>2</td>\n",
              "      <td>0.0</td>\n",
              "      <td>1.0</td>\n",
              "      <td>0.0</td>\n",
              "      <td>0.0</td>\n",
              "      <td>(32.072, 41.267]</td>\n",
              "      <td>(15.9, 18.7]</td>\n",
              "      <td>(171.941, 191.667]</td>\n",
              "      <td>(2696.4, 3900.0]</td>\n",
              "    </tr>\n",
              "    <tr>\n",
              "      <th>1</th>\n",
              "      <td>Adelie</td>\n",
              "      <td>2</td>\n",
              "      <td>0.0</td>\n",
              "      <td>1.0</td>\n",
              "      <td>0.0</td>\n",
              "      <td>0.0</td>\n",
              "      <td>(32.072, 41.267]</td>\n",
              "      <td>(15.9, 18.7]</td>\n",
              "      <td>(171.941, 191.667]</td>\n",
              "      <td>(2696.4, 3900.0]</td>\n",
              "    </tr>\n",
              "    <tr>\n",
              "      <th>2</th>\n",
              "      <td>Adelie</td>\n",
              "      <td>2</td>\n",
              "      <td>0.0</td>\n",
              "      <td>1.0</td>\n",
              "      <td>1.0</td>\n",
              "      <td>0.0</td>\n",
              "      <td>(32.072, 41.267]</td>\n",
              "      <td>(15.9, 18.7]</td>\n",
              "      <td>(191.667, 211.333]</td>\n",
              "      <td>(2696.4, 3900.0]</td>\n",
              "    </tr>\n",
              "    <tr>\n",
              "      <th>3</th>\n",
              "      <td>Adelie</td>\n",
              "      <td>2</td>\n",
              "      <td>0.0</td>\n",
              "      <td>1.0</td>\n",
              "      <td>0.0</td>\n",
              "      <td>0.0</td>\n",
              "      <td>(32.072, 41.267]</td>\n",
              "      <td>(15.9, 18.7]</td>\n",
              "      <td>(171.941, 191.667]</td>\n",
              "      <td>(2696.4, 3900.0]</td>\n",
              "    </tr>\n",
              "    <tr>\n",
              "      <th>4</th>\n",
              "      <td>Adelie</td>\n",
              "      <td>2</td>\n",
              "      <td>0.0</td>\n",
              "      <td>2.0</td>\n",
              "      <td>1.0</td>\n",
              "      <td>0.0</td>\n",
              "      <td>(32.072, 41.267]</td>\n",
              "      <td>(18.7, 21.5]</td>\n",
              "      <td>(191.667, 211.333]</td>\n",
              "      <td>(2696.4, 3900.0]</td>\n",
              "    </tr>\n",
              "  </tbody>\n",
              "</table>\n",
              "</div>\n",
              "      <button class=\"colab-df-convert\" onclick=\"convertToInteractive('df-ff0b4f02-7c19-43fa-887c-eef39635bfb6')\"\n",
              "              title=\"Convert this dataframe to an interactive table.\"\n",
              "              style=\"display:none;\">\n",
              "        \n",
              "  <svg xmlns=\"http://www.w3.org/2000/svg\" height=\"24px\"viewBox=\"0 0 24 24\"\n",
              "       width=\"24px\">\n",
              "    <path d=\"M0 0h24v24H0V0z\" fill=\"none\"/>\n",
              "    <path d=\"M18.56 5.44l.94 2.06.94-2.06 2.06-.94-2.06-.94-.94-2.06-.94 2.06-2.06.94zm-11 1L8.5 8.5l.94-2.06 2.06-.94-2.06-.94L8.5 2.5l-.94 2.06-2.06.94zm10 10l.94 2.06.94-2.06 2.06-.94-2.06-.94-.94-2.06-.94 2.06-2.06.94z\"/><path d=\"M17.41 7.96l-1.37-1.37c-.4-.4-.92-.59-1.43-.59-.52 0-1.04.2-1.43.59L10.3 9.45l-7.72 7.72c-.78.78-.78 2.05 0 2.83L4 21.41c.39.39.9.59 1.41.59.51 0 1.02-.2 1.41-.59l7.78-7.78 2.81-2.81c.8-.78.8-2.07 0-2.86zM5.41 20L4 18.59l7.72-7.72 1.47 1.35L5.41 20z\"/>\n",
              "  </svg>\n",
              "      </button>\n",
              "      \n",
              "  <style>\n",
              "    .colab-df-container {\n",
              "      display:flex;\n",
              "      flex-wrap:wrap;\n",
              "      gap: 12px;\n",
              "    }\n",
              "\n",
              "    .colab-df-convert {\n",
              "      background-color: #E8F0FE;\n",
              "      border: none;\n",
              "      border-radius: 50%;\n",
              "      cursor: pointer;\n",
              "      display: none;\n",
              "      fill: #1967D2;\n",
              "      height: 32px;\n",
              "      padding: 0 0 0 0;\n",
              "      width: 32px;\n",
              "    }\n",
              "\n",
              "    .colab-df-convert:hover {\n",
              "      background-color: #E2EBFA;\n",
              "      box-shadow: 0px 1px 2px rgba(60, 64, 67, 0.3), 0px 1px 3px 1px rgba(60, 64, 67, 0.15);\n",
              "      fill: #174EA6;\n",
              "    }\n",
              "\n",
              "    [theme=dark] .colab-df-convert {\n",
              "      background-color: #3B4455;\n",
              "      fill: #D2E3FC;\n",
              "    }\n",
              "\n",
              "    [theme=dark] .colab-df-convert:hover {\n",
              "      background-color: #434B5C;\n",
              "      box-shadow: 0px 1px 3px 1px rgba(0, 0, 0, 0.15);\n",
              "      filter: drop-shadow(0px 1px 2px rgba(0, 0, 0, 0.3));\n",
              "      fill: #FFFFFF;\n",
              "    }\n",
              "  </style>\n",
              "\n",
              "      <script>\n",
              "        const buttonEl =\n",
              "          document.querySelector('#df-ff0b4f02-7c19-43fa-887c-eef39635bfb6 button.colab-df-convert');\n",
              "        buttonEl.style.display =\n",
              "          google.colab.kernel.accessAllowed ? 'block' : 'none';\n",
              "\n",
              "        async function convertToInteractive(key) {\n",
              "          const element = document.querySelector('#df-ff0b4f02-7c19-43fa-887c-eef39635bfb6');\n",
              "          const dataTable =\n",
              "            await google.colab.kernel.invokeFunction('convertToInteractive',\n",
              "                                                     [key], {});\n",
              "          if (!dataTable) return;\n",
              "\n",
              "          const docLinkHtml = 'Like what you see? Visit the ' +\n",
              "            '<a target=\"_blank\" href=https://colab.research.google.com/notebooks/data_table.ipynb>data table notebook</a>'\n",
              "            + ' to learn more about interactive tables.';\n",
              "          element.innerHTML = '';\n",
              "          dataTable['output_type'] = 'display_data';\n",
              "          await google.colab.output.renderOutput(dataTable, element);\n",
              "          const docLink = document.createElement('div');\n",
              "          docLink.innerHTML = docLinkHtml;\n",
              "          element.appendChild(docLink);\n",
              "        }\n",
              "      </script>\n",
              "    </div>\n",
              "  </div>\n",
              "  "
            ]
          },
          "metadata": {},
          "execution_count": 36
        }
      ],
      "source": [
        "data.head()"
      ]
    },
    {
      "cell_type": "markdown",
      "id": "54bd5a4d",
      "metadata": {
        "papermill": {
          "duration": 0.058689,
          "end_time": "2022-05-12T17:18:56.040591",
          "exception": false,
          "start_time": "2022-05-12T17:18:55.981902",
          "status": "completed"
        },
        "tags": [],
        "id": "54bd5a4d"
      },
      "source": [
        "**Droping unnecessary columns**"
      ]
    },
    {
      "cell_type": "code",
      "execution_count": null,
      "id": "c897909a",
      "metadata": {
        "execution": {
          "iopub.execute_input": "2022-05-12T17:18:56.157849Z",
          "iopub.status.busy": "2022-05-12T17:18:56.157570Z",
          "iopub.status.idle": "2022-05-12T17:18:56.162344Z",
          "shell.execute_reply": "2022-05-12T17:18:56.161699Z"
        },
        "papermill": {
          "duration": 0.065616,
          "end_time": "2022-05-12T17:18:56.164035",
          "exception": false,
          "start_time": "2022-05-12T17:18:56.098419",
          "status": "completed"
        },
        "tags": [],
        "id": "c897909a"
      },
      "outputs": [],
      "source": [
        "features_drop = ['Categorical_culmen_length', \n",
        "                 'Categorical_culmen_depth', \n",
        "                 'Categorical_flipper_length',\n",
        "                 'Categorical_body_mass_g']\n",
        "data = data.drop(features_drop, axis = 1)"
      ]
    },
    {
      "cell_type": "code",
      "execution_count": null,
      "id": "ab8761a1",
      "metadata": {
        "execution": {
          "iopub.execute_input": "2022-05-12T17:18:56.282456Z",
          "iopub.status.busy": "2022-05-12T17:18:56.281748Z",
          "iopub.status.idle": "2022-05-12T17:18:56.290217Z",
          "shell.execute_reply": "2022-05-12T17:18:56.289516Z"
        },
        "papermill": {
          "duration": 0.06962,
          "end_time": "2022-05-12T17:18:56.291920",
          "exception": false,
          "start_time": "2022-05-12T17:18:56.222300",
          "status": "completed"
        },
        "tags": [],
        "id": "ab8761a1",
        "outputId": "3ad9716b-6412-4e96-e320-74c67bcb59c4",
        "colab": {
          "base_uri": "https://localhost:8080/"
        }
      },
      "outputs": [
        {
          "output_type": "execute_result",
          "data": {
            "text/plain": [
              "((344, 5), (344,))"
            ]
          },
          "metadata": {},
          "execution_count": 38
        }
      ],
      "source": [
        "train = data.drop('species', axis = 1)\n",
        "target = data['species']\n",
        "train.shape, target.shape"
      ]
    },
    {
      "cell_type": "markdown",
      "id": "385e1882",
      "metadata": {
        "papermill": {
          "duration": 0.057779,
          "end_time": "2022-05-12T17:18:56.407703",
          "exception": false,
          "start_time": "2022-05-12T17:18:56.349924",
          "status": "completed"
        },
        "tags": [],
        "id": "385e1882"
      },
      "source": [
        "**Classification**"
      ]
    },
    {
      "cell_type": "code",
      "execution_count": null,
      "id": "459942c4",
      "metadata": {
        "execution": {
          "iopub.execute_input": "2022-05-12T17:18:56.526369Z",
          "iopub.status.busy": "2022-05-12T17:18:56.526122Z",
          "iopub.status.idle": "2022-05-12T17:18:56.844604Z",
          "shell.execute_reply": "2022-05-12T17:18:56.843881Z"
        },
        "papermill": {
          "duration": 0.380393,
          "end_time": "2022-05-12T17:18:56.846615",
          "exception": false,
          "start_time": "2022-05-12T17:18:56.466222",
          "status": "completed"
        },
        "tags": [],
        "id": "459942c4"
      },
      "outputs": [],
      "source": [
        "# We will be using K Fold Cross Validation\n",
        "from sklearn.tree import DecisionTreeClassifier\n",
        "from sklearn.ensemble import RandomForestClassifier\n",
        "from sklearn.svm import SVC\n",
        "\n",
        "\n",
        "from sklearn.model_selection import KFold\n",
        "from sklearn.model_selection import cross_val_score\n",
        "k_fold = KFold(n_splits=15, shuffle = True, random_state = 42)"
      ]
    },
    {
      "cell_type": "markdown",
      "id": "d996cc62",
      "metadata": {
        "papermill": {
          "duration": 0.05855,
          "end_time": "2022-05-12T17:18:56.964016",
          "exception": false,
          "start_time": "2022-05-12T17:18:56.905466",
          "status": "completed"
        },
        "tags": [],
        "id": "d996cc62"
      },
      "source": [
        "**Decision Tree**"
      ]
    },
    {
      "cell_type": "code",
      "execution_count": null,
      "id": "3533c5c6",
      "metadata": {
        "execution": {
          "iopub.execute_input": "2022-05-12T17:18:57.082430Z",
          "iopub.status.busy": "2022-05-12T17:18:57.082168Z",
          "iopub.status.idle": "2022-05-12T17:18:59.673516Z",
          "shell.execute_reply": "2022-05-12T17:18:59.671389Z"
        },
        "papermill": {
          "duration": 2.655338,
          "end_time": "2022-05-12T17:18:59.678032",
          "exception": false,
          "start_time": "2022-05-12T17:18:57.022694",
          "status": "completed"
        },
        "tags": [],
        "id": "3533c5c6",
        "outputId": "3d6eb50c-b409-4760-d777-6223db141896",
        "colab": {
          "base_uri": "https://localhost:8080/"
        }
      },
      "outputs": [
        {
          "output_type": "stream",
          "name": "stdout",
          "text": [
            "[0.95652174 1.         1.         1.         1.         1.\n",
            " 0.91304348 1.         0.95652174 1.         0.95652174 0.95652174\n",
            " 0.91304348 1.         0.90909091]\n"
          ]
        }
      ],
      "source": [
        "# Decision Tree\n",
        "clf = DecisionTreeClassifier()\n",
        "score = cross_val_score(clf, train, target, cv = k_fold, n_jobs = 3, scoring = 'accuracy')\n",
        "print(score)"
      ]
    },
    {
      "cell_type": "code",
      "execution_count": null,
      "id": "993347fe",
      "metadata": {
        "execution": {
          "iopub.execute_input": "2022-05-12T17:18:59.848771Z",
          "iopub.status.busy": "2022-05-12T17:18:59.848454Z",
          "iopub.status.idle": "2022-05-12T17:18:59.855759Z",
          "shell.execute_reply": "2022-05-12T17:18:59.854962Z"
        },
        "papermill": {
          "duration": 0.089148,
          "end_time": "2022-05-12T17:18:59.858366",
          "exception": false,
          "start_time": "2022-05-12T17:18:59.769218",
          "status": "completed"
        },
        "tags": [],
        "id": "993347fe",
        "outputId": "35e116f2-ece9-4fed-f88d-a42222d88766",
        "colab": {
          "base_uri": "https://localhost:8080/"
        }
      },
      "outputs": [
        {
          "output_type": "stream",
          "name": "stdout",
          "text": [
            "Average accuracy:  97.08 %\n",
            "Minimum accuracy:  90.9090909090909 %\n",
            "Maximum accuracy:  100.0 %\n"
          ]
        }
      ],
      "source": [
        "#decision tree score\n",
        "print(\"Average accuracy: \", round(np.mean(score)*100, 2), '%')\n",
        "print(\"Minimum accuracy: \", np.min(score)*100, '%')\n",
        "print(\"Maximum accuracy: \", np.max(score)*100, '%')"
      ]
    },
    {
      "cell_type": "markdown",
      "id": "90f7aad0",
      "metadata": {
        "papermill": {
          "duration": 0.066545,
          "end_time": "2022-05-12T17:18:59.991544",
          "exception": false,
          "start_time": "2022-05-12T17:18:59.924999",
          "status": "completed"
        },
        "tags": [],
        "id": "90f7aad0"
      },
      "source": [
        "**Random Forest**"
      ]
    },
    {
      "cell_type": "code",
      "execution_count": null,
      "id": "3162a486",
      "metadata": {
        "execution": {
          "iopub.execute_input": "2022-05-12T17:19:00.126440Z",
          "iopub.status.busy": "2022-05-12T17:19:00.126148Z",
          "iopub.status.idle": "2022-05-12T17:19:02.736181Z",
          "shell.execute_reply": "2022-05-12T17:19:02.735248Z"
        },
        "papermill": {
          "duration": 2.682028,
          "end_time": "2022-05-12T17:19:02.739620",
          "exception": false,
          "start_time": "2022-05-12T17:19:00.057592",
          "status": "completed"
        },
        "tags": [],
        "id": "3162a486",
        "outputId": "0434e884-d9fe-4728-eeed-fa21f965e593",
        "colab": {
          "base_uri": "https://localhost:8080/"
        }
      },
      "outputs": [
        {
          "output_type": "stream",
          "name": "stdout",
          "text": [
            "[0.95652174 1.         1.         1.         1.         1.\n",
            " 0.91304348 0.95652174 0.95652174 0.95652174 0.95652174 1.\n",
            " 0.91304348 1.         0.90909091]\n"
          ]
        }
      ],
      "source": [
        "# Random Forest\n",
        "clf = RandomForestClassifier()\n",
        "score = cross_val_score(clf, train, target, cv = k_fold, n_jobs = 3, scoring = 'accuracy')\n",
        "print(score)"
      ]
    },
    {
      "cell_type": "code",
      "execution_count": null,
      "id": "bb7e4741",
      "metadata": {
        "execution": {
          "iopub.execute_input": "2022-05-12T17:19:02.884108Z",
          "iopub.status.busy": "2022-05-12T17:19:02.883398Z",
          "iopub.status.idle": "2022-05-12T17:19:02.891062Z",
          "shell.execute_reply": "2022-05-12T17:19:02.890235Z"
        },
        "papermill": {
          "duration": 0.07858,
          "end_time": "2022-05-12T17:19:02.893128",
          "exception": false,
          "start_time": "2022-05-12T17:19:02.814548",
          "status": "completed"
        },
        "tags": [],
        "id": "bb7e4741",
        "outputId": "bdb22cdb-adde-4271-9449-499bcc211185",
        "colab": {
          "base_uri": "https://localhost:8080/"
        }
      },
      "outputs": [
        {
          "output_type": "stream",
          "name": "stdout",
          "text": [
            "Average accuracy:  96.79 %\n",
            "Minimum accuracy:  90.9090909090909 %\n",
            "Maximum accuracy:  100.0 %\n"
          ]
        }
      ],
      "source": [
        "# random forest score\n",
        "print(\"Average accuracy: \", round(np.mean(score)*100, 2), '%')\n",
        "print(\"Minimum accuracy: \", np.min(score)*100, '%')\n",
        "print(\"Maximum accuracy: \", np.max(score)*100, '%')"
      ]
    },
    {
      "cell_type": "markdown",
      "id": "6b3114df",
      "metadata": {
        "papermill": {
          "duration": 0.067141,
          "end_time": "2022-05-12T17:19:03.028298",
          "exception": false,
          "start_time": "2022-05-12T17:19:02.961157",
          "status": "completed"
        },
        "tags": [],
        "id": "6b3114df"
      },
      "source": [
        "**SVM**"
      ]
    },
    {
      "cell_type": "code",
      "execution_count": null,
      "id": "3c60b3b3",
      "metadata": {
        "execution": {
          "iopub.execute_input": "2022-05-12T17:19:03.165553Z",
          "iopub.status.busy": "2022-05-12T17:19:03.165294Z",
          "iopub.status.idle": "2022-05-12T17:19:03.275951Z",
          "shell.execute_reply": "2022-05-12T17:19:03.274981Z"
        },
        "papermill": {
          "duration": 0.182657,
          "end_time": "2022-05-12T17:19:03.278532",
          "exception": false,
          "start_time": "2022-05-12T17:19:03.095875",
          "status": "completed"
        },
        "tags": [],
        "id": "3c60b3b3",
        "outputId": "5085b836-ee53-4fc3-d67a-ebfa90bf5798",
        "colab": {
          "base_uri": "https://localhost:8080/"
        }
      },
      "outputs": [
        {
          "output_type": "stream",
          "name": "stdout",
          "text": [
            "[0.95652174 1.         0.95652174 1.         1.         1.\n",
            " 0.91304348 0.95652174 0.95652174 0.95652174 0.91304348 1.\n",
            " 0.91304348 1.         0.90909091]\n"
          ]
        }
      ],
      "source": [
        "# SVM\n",
        "clf = SVC()\n",
        "score = cross_val_score(clf, train, target, cv = k_fold, n_jobs = 3, scoring = 'accuracy')\n",
        "print(score)"
      ]
    },
    {
      "cell_type": "code",
      "execution_count": null,
      "id": "b42f4419",
      "metadata": {
        "execution": {
          "iopub.execute_input": "2022-05-12T17:19:03.423310Z",
          "iopub.status.busy": "2022-05-12T17:19:03.423025Z",
          "iopub.status.idle": "2022-05-12T17:19:03.430522Z",
          "shell.execute_reply": "2022-05-12T17:19:03.429707Z"
        },
        "papermill": {
          "duration": 0.079186,
          "end_time": "2022-05-12T17:19:03.433032",
          "exception": false,
          "start_time": "2022-05-12T17:19:03.353846",
          "status": "completed"
        },
        "tags": [],
        "id": "b42f4419",
        "outputId": "408fd80f-0e20-4ccd-9683-54e2fd0b60ef",
        "colab": {
          "base_uri": "https://localhost:8080/"
        }
      },
      "outputs": [
        {
          "output_type": "stream",
          "name": "stdout",
          "text": [
            "Average accuracy:  96.21 %\n",
            "Minimum accuracy:  90.9090909090909 %\n",
            "Maximum accuracy:  100.0 %\n"
          ]
        }
      ],
      "source": [
        "# svm score\n",
        "print(\"Average accuracy: \", round(np.mean(score)*100, 2), '%')\n",
        "print(\"Minimum accuracy: \", np.min(score)*100, '%')\n",
        "print(\"Maximum accuracy: \", np.max(score)*100, '%')"
      ]
    }
  ],
  "metadata": {
    "kernelspec": {
      "display_name": "Python 3",
      "language": "python",
      "name": "python3"
    },
    "language_info": {
      "codemirror_mode": {
        "name": "ipython",
        "version": 3
      },
      "file_extension": ".py",
      "mimetype": "text/x-python",
      "name": "python",
      "nbconvert_exporter": "python",
      "pygments_lexer": "ipython3",
      "version": "3.7.12"
    },
    "papermill": {
      "default_parameters": {},
      "duration": 26.764408,
      "end_time": "2022-05-12T17:19:06.121643",
      "environment_variables": {},
      "exception": null,
      "input_path": "__notebook__.ipynb",
      "output_path": "__notebook__.ipynb",
      "parameters": {},
      "start_time": "2022-05-12T17:18:39.357235",
      "version": "2.3.4"
    },
    "colab": {
      "provenance": []
    }
  },
  "nbformat": 4,
  "nbformat_minor": 5
}